{
 "cells": [
  {
   "cell_type": "code",
   "execution_count": 3,
   "id": "160ccba2",
   "metadata": {},
   "outputs": [
    {
     "name": "stdout",
     "output_type": "stream",
     "text": [
      "                FMCG\n",
      "DATES               \n",
      "2018-01-01       NaN\n",
      "2018-01-08       NaN\n",
      "2018-01-15       NaN\n",
      "2018-01-22       NaN\n",
      "2018-01-30       NaN\n",
      "...              ...\n",
      "2025-03-28 -1.076800\n",
      "2025-04-07  1.316745\n",
      "2025-04-16  1.221323\n",
      "2025-04-24  0.246148\n",
      "2025-05-02 -0.363085\n",
      "\n",
      "[364 rows x 1 columns]\n"
     ]
    },
    {
     "data": {
      "application/vnd.plotly.v1+json": {
       "config": {
        "plotlyServerURL": "https://plot.ly"
       },
       "data": [
        {
         "line": {
          "color": "#636EFA",
          "dash": "dash",
          "width": 3
         },
         "mode": "lines",
         "name": "FMCG_tail",
         "showlegend": false,
         "type": "scatter",
         "x": {
          "bdata": "oMo/T+6OyL/Dab/yqfrTPyHigqKOpPq/yp0SnVx+AcDyKKlSgED8v7zzhS6w4fO/PQ83htIO/L/aLWIcRrT2v1o59Bv9UPS/MUlur9Cy+b/i0VErnoT7vzOAPjDVl/K/rWgwfWGz4b9ewJEzJOnEv3HhSU7Bv/I/qiMdCjvv1L+r5CTpg8LgP/r2TPA+SdY/MkW3yNEvvD9BW0zPeRrwvwW6ihto6fu/uzBxzQrm8L85v+pQUiv0v3JKx4cDg+q/k4tf3sxC97+eLdN6kjrxv0qcuqhjEfU/a2EC5omK8z9ZHa+TxYHPPxktTDvIPNe/",
          "dtype": "f8"
         },
         "y": {
          "bdata": "+gBZthKWAUBPGYnBtYDuP1wJh9h/Rvg/RehctQ6E7r/mtgblt03zPxwHwrhaGvS/N0uMobMGmj9DUsIOSvnUv6SVs8KX0eI/N4aDJpKPfj+0WWJEceLLv0w4bInfI9Q//dCtiFDE678PklE8qUrmv+padbgFhs6/9dtZhAGtvD/ESIWGv3/4v6S63FUzBeg/io8ri7P8+b8gtZytxXnlv4ttsqGm+PM/oixLY81H478K1XzqptD4P/MMbGvU+9G/1vVtYN574z8rZmz85A70v9GENob2cdq/MKL2ee0L7j9juzgY3bvqvwvkhBSKR/I/",
          "dtype": "f8"
         }
        },
        {
         "marker": {
          "color": "#636EFA",
          "line": {
           "color": "white",
           "width": 2
          },
          "size": 15,
          "symbol": "circle"
         },
         "mode": "markers+text",
         "name": "FMCG",
         "text": [
          "FMCG"
         ],
         "textfont": {
          "color": "black",
          "size": 12
         },
         "textposition": "top center",
         "type": "scatter",
         "x": [
          1.3167454329466346
         ],
         "y": [
          1.1424656678702856
         ]
        }
       ],
       "layout": {
        "annotations": [
         {
          "arrowcolor": "#636EFA",
          "arrowhead": 2,
          "arrowsize": 1,
          "arrowwidth": 2,
          "ax": 0.27464986088073073,
          "axref": "x",
          "ay": 1.0459042560533334,
          "ayref": "y",
          "bgcolor": "rgba(0,0,0,0)",
          "bordercolor": "rgba(0,0,0,0)",
          "showarrow": true,
          "x": 0.31217430787878814,
          "xref": "x",
          "y": 0.9532116680136741,
          "yref": "y"
         },
         {
          "arrowcolor": "#636EFA",
          "arrowhead": 2,
          "arrowsize": 1,
          "arrowwidth": 2,
          "ax": -1.5690104120772852,
          "axref": "x",
          "ay": 1.4897826805116612,
          "ayref": "y",
          "bgcolor": "rgba(0,0,0,0)",
          "bordercolor": "rgba(0,0,0,0)",
          "showarrow": true,
          "x": -1.665175089654561,
          "xref": "x",
          "y": 1.5172117670159286,
          "yref": "y"
         },
         {
          "arrowcolor": "#636EFA",
          "arrowhead": 2,
          "arrowsize": 1,
          "arrowwidth": 2,
          "ax": -2.1660478545278457,
          "axref": "x",
          "ay": -0.8557761052603625,
          "ayref": "y",
          "bgcolor": "rgba(0,0,0,0)",
          "bordercolor": "rgba(0,0,0,0)",
          "showarrow": true,
          "x": -2.18670008385718,
          "xref": "x",
          "y": -0.9536202947849765,
          "yref": "y"
         },
         {
          "arrowcolor": "#636EFA",
          "arrowhead": 2,
          "arrowsize": 1,
          "arrowwidth": 2,
          "ax": -1.7848752513067467,
          "axref": "x",
          "ay": 1.1083206277616822,
          "ayref": "y",
          "bgcolor": "rgba(0,0,0,0)",
          "bordercolor": "rgba(0,0,0,0)",
          "showarrow": true,
          "x": -1.7657473782479056,
          "xref": "x",
          "y": 1.2064742037140888,
          "yref": "y"
         },
         {
          "arrowcolor": "#636EFA",
          "arrowhead": 2,
          "arrowsize": 1,
          "arrowwidth": 2,
          "ax": -1.263377164152097,
          "axref": "x",
          "ay": -1.1586165114380027,
          "ayref": "y",
          "bgcolor": "rgba(0,0,0,0)",
          "bordercolor": "rgba(0,0,0,0)",
          "showarrow": true,
          "x": -1.2425996606173006,
          "xref": "x",
          "y": -1.2564341752153672,
          "yref": "y"
         },
         {
          "arrowcolor": "#636EFA",
          "arrowhead": 2,
          "arrowsize": 1,
          "arrowwidth": 2,
          "ax": -1.716587213863074,
          "axref": "x",
          "ay": -0.06747442344317992,
          "ayref": "y",
          "bgcolor": "rgba(0,0,0,0)",
          "bordercolor": "rgba(0,0,0,0)",
          "showarrow": true,
          "x": -1.7536187403465668,
          "xref": "x",
          "y": 0.025416189894779975,
          "yref": "y"
         },
         {
          "arrowcolor": "#636EFA",
          "arrowhead": 2,
          "arrowsize": 1,
          "arrowwidth": 2,
          "ax": -1.4877932305721246,
          "axref": "x",
          "ay": -0.2551263862856132,
          "ayref": "y",
          "bgcolor": "rgba(0,0,0,0)",
          "bordercolor": "rgba(0,0,0,0)",
          "showarrow": true,
          "x": -1.4190121754389708,
          "xref": "x",
          "y": -0.32771541062655646,
          "yref": "y"
         },
         {
          "arrowcolor": "#636EFA",
          "arrowhead": 2,
          "arrowsize": 1,
          "arrowwidth": 2,
          "ax": -1.2858565453191533,
          "axref": "x",
          "ay": 0.48938699663179464,
          "ayref": "y",
          "bgcolor": "rgba(0,0,0,0)",
          "bordercolor": "rgba(0,0,0,0)",
          "showarrow": true,
          "x": -1.2697726337388162,
          "xref": "x",
          "y": 0.5880850603831971,
          "yref": "y"
         },
         {
          "arrowcolor": "#636EFA",
          "arrowhead": 2,
          "arrowsize": 1,
          "arrowwidth": 2,
          "ax": -1.5560264489424702,
          "axref": "x",
          "ay": 0.09398872494920328,
          "ayref": "y",
          "bgcolor": "rgba(0,0,0,0)",
          "bordercolor": "rgba(0,0,0,0)",
          "showarrow": true,
          "x": -1.6061560490384859,
          "xref": "x",
          "y": 0.007461138630078737,
          "yref": "y"
         },
         {
          "arrowcolor": "#636EFA",
          "arrowhead": 2,
          "arrowsize": 1,
          "arrowwidth": 2,
          "ax": -1.6748182110774135,
          "axref": "x",
          "ay": -0.128574971978073,
          "ayref": "y",
          "bgcolor": "rgba(0,0,0,0)",
          "bordercolor": "rgba(0,0,0,0)",
          "showarrow": true,
          "x": -1.7198774044201106,
          "xref": "x",
          "y": -0.21784797514983512,
          "yref": "y"
         },
         {
          "arrowcolor": "#636EFA",
          "arrowhead": 2,
          "arrowsize": 1,
          "arrowwidth": 2,
          "ax": -1.2343986872048798,
          "axref": "x",
          "ay": 0.24563627982984249,
          "ayref": "y",
          "bgcolor": "rgba(0,0,0,0)",
          "bordercolor": "rgba(0,0,0,0)",
          "showarrow": true,
          "x": -1.1620685467278349,
          "xref": "x",
          "y": 0.3146895257967841,
          "yref": "y"
         },
         {
          "arrowcolor": "#636EFA",
          "arrowhead": 2,
          "arrowsize": 1,
          "arrowwidth": 2,
          "ax": -0.5989311091172531,
          "axref": "x",
          "ay": -0.7788107409446885,
          "ayref": "y",
          "bgcolor": "rgba(0,0,0,0)",
          "bordercolor": "rgba(0,0,0,0)",
          "showarrow": true,
          "x": -0.5531470723247104,
          "xref": "x",
          "y": -0.867714182807077,
          "yref": "y"
         },
         {
          "arrowcolor": "#636EFA",
          "arrowhead": 2,
          "arrowsize": 1,
          "arrowwidth": 2,
          "ax": -0.2549313542608697,
          "axref": "x",
          "ay": -0.7368082601954365,
          "ayref": "y",
          "bgcolor": "rgba(0,0,0,0)",
          "bordercolor": "rgba(0,0,0,0)",
          "showarrow": true,
          "x": -0.1633649112513948,
          "xref": "x",
          "y": -0.6966139009569491,
          "yref": "y"
         },
         {
          "arrowcolor": "#636EFA",
          "arrowhead": 2,
          "arrowsize": 1,
          "arrowwidth": 2,
          "ax": 1.0772287213496714,
          "axref": "x",
          "ay": -0.2709211020737248,
          "ayref": "y",
          "bgcolor": "rgba(0,0,0,0)",
          "bordercolor": "rgba(0,0,0,0)",
          "showarrow": true,
          "x": 1.1718152101658144,
          "xref": "x",
          "y": -0.23846503741034236,
          "yref": "y"
         },
         {
          "arrowcolor": "#636EFA",
          "arrowhead": 2,
          "arrowsize": 1,
          "arrowwidth": 2,
          "ax": -0.22972790030658757,
          "axref": "x",
          "ay": 0.08924676312044404,
          "ayref": "y",
          "bgcolor": "rgba(0,0,0,0)",
          "bordercolor": "rgba(0,0,0,0)",
          "showarrow": true,
          "x": -0.32710147845915094,
          "xref": "x",
          "y": 0.11201486092782871,
          "yref": "y"
         },
         {
          "arrowcolor": "#636EFA",
          "arrowhead": 2,
          "arrowsize": 1,
          "arrowwidth": 2,
          "ax": 0.47776331692082386,
          "axref": "x",
          "ay": -1.442386895911257,
          "ayref": "y",
          "bgcolor": "rgba(0,0,0,0)",
          "bordercolor": "rgba(0,0,0,0)",
          "showarrow": true,
          "x": 0.523744540557478,
          "xref": "x",
          "y": -1.5311885122978746,
          "yref": "y"
         },
         {
          "arrowcolor": "#636EFA",
          "arrowhead": 2,
          "arrowsize": 1,
          "arrowwidth": 2,
          "ax": 0.35589018277143597,
          "axref": "x",
          "ay": 0.6509293786173013,
          "ayref": "y",
          "bgcolor": "rgba(0,0,0,0)",
          "bordercolor": "rgba(0,0,0,0)",
          "showarrow": true,
          "x": 0.34822057215556834,
          "xref": "x",
          "y": 0.7506348301884214,
          "yref": "y"
         },
         {
          "arrowcolor": "#636EFA",
          "arrowhead": 2,
          "arrowsize": 1,
          "arrowwidth": 2,
          "ax": 0.1200812958757616,
          "axref": "x",
          "ay": -1.5246935738083178,
          "ayref": "y",
          "bgcolor": "rgba(0,0,0,0)",
          "bordercolor": "rgba(0,0,0,0)",
          "showarrow": true,
          "x": 0.11010466718950765,
          "xref": "x",
          "y": -1.6241946636518798,
          "yref": "y"
         },
         {
          "arrowcolor": "#636EFA",
          "arrowhead": 2,
          "arrowsize": 1,
          "arrowwidth": 2,
          "ax": -0.930404401817773,
          "axref": "x",
          "ay": -0.7360375255685535,
          "ayref": "y",
          "bgcolor": "rgba(0,0,0,0)",
          "bordercolor": "rgba(0,0,0,0)",
          "showarrow": true,
          "x": -1.0064638230885097,
          "xref": "x",
          "y": -0.6711147681104741,
          "yref": "y"
         },
         {
          "arrowcolor": "#636EFA",
          "arrowhead": 2,
          "arrowsize": 1,
          "arrowwidth": 2,
          "ax": -1.708593767427172,
          "axref": "x",
          "ay": 1.1548682943486517,
          "ayref": "y",
          "bgcolor": "rgba(0,0,0,0)",
          "bordercolor": "rgba(0,0,0,0)",
          "showarrow": true,
          "x": -1.7444840503554826,
          "xref": "x",
          "y": 1.2482057873047292,
          "yref": "y"
         },
         {
          "arrowcolor": "#636EFA",
          "arrowhead": 2,
          "arrowsize": 1,
          "arrowwidth": 2,
          "ax": -1.0910218321473828,
          "axref": "x",
          "ay": -0.5087874667752823,
          "ayref": "y",
          "bgcolor": "rgba(0,0,0,0)",
          "bordercolor": "rgba(0,0,0,0)",
          "showarrow": true,
          "x": -1.0561626458248117,
          "xref": "x",
          "y": -0.6025149287537668,
          "yref": "y"
         },
         {
          "arrowcolor": "#636EFA",
          "arrowhead": 2,
          "arrowsize": 1,
          "arrowwidth": 2,
          "ax": -1.2511266604512516,
          "axref": "x",
          "ay": 1.4513879367925062,
          "ayref": "y",
          "bgcolor": "rgba(0,0,0,0)",
          "bordercolor": "rgba(0,0,0,0)",
          "showarrow": true,
          "x": -1.260576549608187,
          "xref": "x",
          "y": 1.5509404334710006,
          "yref": "y"
         },
         {
          "arrowcolor": "#636EFA",
          "arrowhead": 2,
          "arrowsize": 1,
          "arrowwidth": 2,
          "ax": -0.851449175891108,
          "axref": "x",
          "ay": -0.18366608424044917,
          "ayref": "y",
          "bgcolor": "rgba(0,0,0,0)",
          "bordercolor": "rgba(0,0,0,0)",
          "showarrow": true,
          "x": -0.8284928943561012,
          "xref": "x",
          "y": -0.28099546900212075,
          "yref": "y"
         },
         {
          "arrowcolor": "#636EFA",
          "arrowhead": 2,
          "arrowsize": 1,
          "arrowwidth": 2,
          "ax": -1.3963138359315157,
          "axref": "x",
          "ay": 0.5270517070781039,
          "ayref": "y",
          "bgcolor": "rgba(0,0,0,0)",
          "bordercolor": "rgba(0,0,0,0)",
          "showarrow": true,
          "x": -1.453808659215359,
          "xref": "x",
          "y": 0.6088706859006219,
          "yref": "y"
         },
         {
          "arrowcolor": "#636EFA",
          "arrowhead": 2,
          "arrowsize": 1,
          "arrowwidth": 2,
          "ax": -1.096639484396416,
          "axref": "x",
          "ay": -1.1556241592490855,
          "ayref": "y",
          "bgcolor": "rgba(0,0,0,0)",
          "bordercolor": "rgba(0,0,0,0)",
          "showarrow": true,
          "x": -1.0767998502586589,
          "xref": "x",
          "y": -1.2536363468447103,
          "yref": "y"
         },
         {
          "arrowcolor": "#636EFA",
          "arrowhead": 2,
          "arrowsize": 1,
          "arrowwidth": 2,
          "ax": 1.2223927048361474,
          "axref": "x",
          "ay": -0.44633523244119805,
          "ayref": "y",
          "bgcolor": "rgba(0,0,0,0)",
          "bordercolor": "rgba(0,0,0,0)",
          "showarrow": true,
          "x": 1.3167454329466346,
          "xref": "x",
          "y": -0.4132057486222723,
          "yref": "y"
         },
         {
          "arrowcolor": "#636EFA",
          "arrowhead": 2,
          "arrowsize": 1,
          "arrowwidth": 2,
          "ax": 1.2283624433220492,
          "axref": "x",
          "ay": 0.8392040934335812,
          "ayref": "y",
          "bgcolor": "rgba(0,0,0,0)",
          "bordercolor": "rgba(0,0,0,0)",
          "showarrow": true,
          "x": 1.2213229164827577,
          "xref": "x",
          "y": 0.9389560110185524,
          "yref": "y"
         },
         {
          "arrowcolor": "#636EFA",
          "arrowhead": 2,
          "arrowsize": 1,
          "arrowwidth": 2,
          "ax": 0.294311684863089,
          "axref": "x",
          "ay": -0.7477955836474217,
          "ayref": "y",
          "bgcolor": "rgba(0,0,0,0)",
          "bordercolor": "rgba(0,0,0,0)",
          "showarrow": true,
          "x": 0.2461478205789074,
          "xref": "x",
          "y": -0.835432574565726,
          "yref": "y"
         },
         {
          "arrowcolor": "#636EFA",
          "arrowhead": 3,
          "arrowsize": 2,
          "arrowwidth": 3,
          "ax": -0.318929029922048,
          "axref": "x",
          "ay": 0.9991120362387076,
          "ayref": "y",
          "bgcolor": "rgba(0,0,0,0)",
          "bordercolor": "rgba(0,0,0,0)",
          "showarrow": true,
          "x": -0.3630848483159795,
          "xref": "x",
          "y": 1.1424656678702856,
          "yref": "y"
         },
         {
          "font": {
           "color": "darkgreen",
           "size": 10
          },
          "showarrow": false,
          "text": "Leading<br>(Strong & Improving)",
          "x": 1.5,
          "y": 1.5
         },
         {
          "font": {
           "color": "orange",
           "size": 10
          },
          "showarrow": false,
          "text": "Weakening<br>(Strong & Deteriorating)",
          "x": 1.5,
          "y": -1.5
         },
         {
          "font": {
           "color": "darkred",
           "size": 10
          },
          "showarrow": false,
          "text": "Lagging<br>(Weak & Deteriorating)",
          "x": -1.5,
          "y": -1.5
         },
         {
          "font": {
           "color": "blue",
           "size": 10
          },
          "showarrow": false,
          "text": "Improving<br>(Weak & Improving)",
          "x": -1.5,
          "y": 1.5
         }
        ],
        "height": 700,
        "shapes": [
         {
          "line": {
           "color": "black",
           "width": 1
          },
          "type": "line",
          "x0": 0,
          "x1": 0,
          "y0": -3,
          "y1": 3
         },
         {
          "line": {
           "color": "black",
           "width": 1
          },
          "type": "line",
          "x0": -3,
          "x1": 3,
          "y0": 0,
          "y1": 0
         },
         {
          "fillcolor": "lightgreen",
          "layer": "below",
          "opacity": 0.3,
          "type": "rect",
          "x0": 0,
          "x1": 3,
          "y0": 0,
          "y1": 3
         },
         {
          "fillcolor": "yellow",
          "layer": "below",
          "opacity": 0.3,
          "type": "rect",
          "x0": 0,
          "x1": 3,
          "y0": 0,
          "y1": -3
         },
         {
          "fillcolor": "lightcoral",
          "layer": "below",
          "opacity": 0.3,
          "type": "rect",
          "x0": 0,
          "x1": -3,
          "y0": 0,
          "y1": -3
         },
         {
          "fillcolor": "lightblue",
          "layer": "below",
          "opacity": 0.3,
          "type": "rect",
          "x0": 0,
          "x1": -3,
          "y0": 0,
          "y1": 3
         }
        ],
        "showlegend": true,
        "template": {
         "data": {
          "bar": [
           {
            "error_x": {
             "color": "#2a3f5f"
            },
            "error_y": {
             "color": "#2a3f5f"
            },
            "marker": {
             "line": {
              "color": "#E5ECF6",
              "width": 0.5
             },
             "pattern": {
              "fillmode": "overlay",
              "size": 10,
              "solidity": 0.2
             }
            },
            "type": "bar"
           }
          ],
          "barpolar": [
           {
            "marker": {
             "line": {
              "color": "#E5ECF6",
              "width": 0.5
             },
             "pattern": {
              "fillmode": "overlay",
              "size": 10,
              "solidity": 0.2
             }
            },
            "type": "barpolar"
           }
          ],
          "carpet": [
           {
            "aaxis": {
             "endlinecolor": "#2a3f5f",
             "gridcolor": "white",
             "linecolor": "white",
             "minorgridcolor": "white",
             "startlinecolor": "#2a3f5f"
            },
            "baxis": {
             "endlinecolor": "#2a3f5f",
             "gridcolor": "white",
             "linecolor": "white",
             "minorgridcolor": "white",
             "startlinecolor": "#2a3f5f"
            },
            "type": "carpet"
           }
          ],
          "choropleth": [
           {
            "colorbar": {
             "outlinewidth": 0,
             "ticks": ""
            },
            "type": "choropleth"
           }
          ],
          "contour": [
           {
            "colorbar": {
             "outlinewidth": 0,
             "ticks": ""
            },
            "colorscale": [
             [
              0,
              "#0d0887"
             ],
             [
              0.1111111111111111,
              "#46039f"
             ],
             [
              0.2222222222222222,
              "#7201a8"
             ],
             [
              0.3333333333333333,
              "#9c179e"
             ],
             [
              0.4444444444444444,
              "#bd3786"
             ],
             [
              0.5555555555555556,
              "#d8576b"
             ],
             [
              0.6666666666666666,
              "#ed7953"
             ],
             [
              0.7777777777777778,
              "#fb9f3a"
             ],
             [
              0.8888888888888888,
              "#fdca26"
             ],
             [
              1,
              "#f0f921"
             ]
            ],
            "type": "contour"
           }
          ],
          "contourcarpet": [
           {
            "colorbar": {
             "outlinewidth": 0,
             "ticks": ""
            },
            "type": "contourcarpet"
           }
          ],
          "heatmap": [
           {
            "colorbar": {
             "outlinewidth": 0,
             "ticks": ""
            },
            "colorscale": [
             [
              0,
              "#0d0887"
             ],
             [
              0.1111111111111111,
              "#46039f"
             ],
             [
              0.2222222222222222,
              "#7201a8"
             ],
             [
              0.3333333333333333,
              "#9c179e"
             ],
             [
              0.4444444444444444,
              "#bd3786"
             ],
             [
              0.5555555555555556,
              "#d8576b"
             ],
             [
              0.6666666666666666,
              "#ed7953"
             ],
             [
              0.7777777777777778,
              "#fb9f3a"
             ],
             [
              0.8888888888888888,
              "#fdca26"
             ],
             [
              1,
              "#f0f921"
             ]
            ],
            "type": "heatmap"
           }
          ],
          "histogram": [
           {
            "marker": {
             "pattern": {
              "fillmode": "overlay",
              "size": 10,
              "solidity": 0.2
             }
            },
            "type": "histogram"
           }
          ],
          "histogram2d": [
           {
            "colorbar": {
             "outlinewidth": 0,
             "ticks": ""
            },
            "colorscale": [
             [
              0,
              "#0d0887"
             ],
             [
              0.1111111111111111,
              "#46039f"
             ],
             [
              0.2222222222222222,
              "#7201a8"
             ],
             [
              0.3333333333333333,
              "#9c179e"
             ],
             [
              0.4444444444444444,
              "#bd3786"
             ],
             [
              0.5555555555555556,
              "#d8576b"
             ],
             [
              0.6666666666666666,
              "#ed7953"
             ],
             [
              0.7777777777777778,
              "#fb9f3a"
             ],
             [
              0.8888888888888888,
              "#fdca26"
             ],
             [
              1,
              "#f0f921"
             ]
            ],
            "type": "histogram2d"
           }
          ],
          "histogram2dcontour": [
           {
            "colorbar": {
             "outlinewidth": 0,
             "ticks": ""
            },
            "colorscale": [
             [
              0,
              "#0d0887"
             ],
             [
              0.1111111111111111,
              "#46039f"
             ],
             [
              0.2222222222222222,
              "#7201a8"
             ],
             [
              0.3333333333333333,
              "#9c179e"
             ],
             [
              0.4444444444444444,
              "#bd3786"
             ],
             [
              0.5555555555555556,
              "#d8576b"
             ],
             [
              0.6666666666666666,
              "#ed7953"
             ],
             [
              0.7777777777777778,
              "#fb9f3a"
             ],
             [
              0.8888888888888888,
              "#fdca26"
             ],
             [
              1,
              "#f0f921"
             ]
            ],
            "type": "histogram2dcontour"
           }
          ],
          "mesh3d": [
           {
            "colorbar": {
             "outlinewidth": 0,
             "ticks": ""
            },
            "type": "mesh3d"
           }
          ],
          "parcoords": [
           {
            "line": {
             "colorbar": {
              "outlinewidth": 0,
              "ticks": ""
             }
            },
            "type": "parcoords"
           }
          ],
          "pie": [
           {
            "automargin": true,
            "type": "pie"
           }
          ],
          "scatter": [
           {
            "fillpattern": {
             "fillmode": "overlay",
             "size": 10,
             "solidity": 0.2
            },
            "type": "scatter"
           }
          ],
          "scatter3d": [
           {
            "line": {
             "colorbar": {
              "outlinewidth": 0,
              "ticks": ""
             }
            },
            "marker": {
             "colorbar": {
              "outlinewidth": 0,
              "ticks": ""
             }
            },
            "type": "scatter3d"
           }
          ],
          "scattercarpet": [
           {
            "marker": {
             "colorbar": {
              "outlinewidth": 0,
              "ticks": ""
             }
            },
            "type": "scattercarpet"
           }
          ],
          "scattergeo": [
           {
            "marker": {
             "colorbar": {
              "outlinewidth": 0,
              "ticks": ""
             }
            },
            "type": "scattergeo"
           }
          ],
          "scattergl": [
           {
            "marker": {
             "colorbar": {
              "outlinewidth": 0,
              "ticks": ""
             }
            },
            "type": "scattergl"
           }
          ],
          "scattermap": [
           {
            "marker": {
             "colorbar": {
              "outlinewidth": 0,
              "ticks": ""
             }
            },
            "type": "scattermap"
           }
          ],
          "scattermapbox": [
           {
            "marker": {
             "colorbar": {
              "outlinewidth": 0,
              "ticks": ""
             }
            },
            "type": "scattermapbox"
           }
          ],
          "scatterpolar": [
           {
            "marker": {
             "colorbar": {
              "outlinewidth": 0,
              "ticks": ""
             }
            },
            "type": "scatterpolar"
           }
          ],
          "scatterpolargl": [
           {
            "marker": {
             "colorbar": {
              "outlinewidth": 0,
              "ticks": ""
             }
            },
            "type": "scatterpolargl"
           }
          ],
          "scatterternary": [
           {
            "marker": {
             "colorbar": {
              "outlinewidth": 0,
              "ticks": ""
             }
            },
            "type": "scatterternary"
           }
          ],
          "surface": [
           {
            "colorbar": {
             "outlinewidth": 0,
             "ticks": ""
            },
            "colorscale": [
             [
              0,
              "#0d0887"
             ],
             [
              0.1111111111111111,
              "#46039f"
             ],
             [
              0.2222222222222222,
              "#7201a8"
             ],
             [
              0.3333333333333333,
              "#9c179e"
             ],
             [
              0.4444444444444444,
              "#bd3786"
             ],
             [
              0.5555555555555556,
              "#d8576b"
             ],
             [
              0.6666666666666666,
              "#ed7953"
             ],
             [
              0.7777777777777778,
              "#fb9f3a"
             ],
             [
              0.8888888888888888,
              "#fdca26"
             ],
             [
              1,
              "#f0f921"
             ]
            ],
            "type": "surface"
           }
          ],
          "table": [
           {
            "cells": {
             "fill": {
              "color": "#EBF0F8"
             },
             "line": {
              "color": "white"
             }
            },
            "header": {
             "fill": {
              "color": "#C8D4E3"
             },
             "line": {
              "color": "white"
             }
            },
            "type": "table"
           }
          ]
         },
         "layout": {
          "annotationdefaults": {
           "arrowcolor": "#2a3f5f",
           "arrowhead": 0,
           "arrowwidth": 1
          },
          "autotypenumbers": "strict",
          "coloraxis": {
           "colorbar": {
            "outlinewidth": 0,
            "ticks": ""
           }
          },
          "colorscale": {
           "diverging": [
            [
             0,
             "#8e0152"
            ],
            [
             0.1,
             "#c51b7d"
            ],
            [
             0.2,
             "#de77ae"
            ],
            [
             0.3,
             "#f1b6da"
            ],
            [
             0.4,
             "#fde0ef"
            ],
            [
             0.5,
             "#f7f7f7"
            ],
            [
             0.6,
             "#e6f5d0"
            ],
            [
             0.7,
             "#b8e186"
            ],
            [
             0.8,
             "#7fbc41"
            ],
            [
             0.9,
             "#4d9221"
            ],
            [
             1,
             "#276419"
            ]
           ],
           "sequential": [
            [
             0,
             "#0d0887"
            ],
            [
             0.1111111111111111,
             "#46039f"
            ],
            [
             0.2222222222222222,
             "#7201a8"
            ],
            [
             0.3333333333333333,
             "#9c179e"
            ],
            [
             0.4444444444444444,
             "#bd3786"
            ],
            [
             0.5555555555555556,
             "#d8576b"
            ],
            [
             0.6666666666666666,
             "#ed7953"
            ],
            [
             0.7777777777777778,
             "#fb9f3a"
            ],
            [
             0.8888888888888888,
             "#fdca26"
            ],
            [
             1,
             "#f0f921"
            ]
           ],
           "sequentialminus": [
            [
             0,
             "#0d0887"
            ],
            [
             0.1111111111111111,
             "#46039f"
            ],
            [
             0.2222222222222222,
             "#7201a8"
            ],
            [
             0.3333333333333333,
             "#9c179e"
            ],
            [
             0.4444444444444444,
             "#bd3786"
            ],
            [
             0.5555555555555556,
             "#d8576b"
            ],
            [
             0.6666666666666666,
             "#ed7953"
            ],
            [
             0.7777777777777778,
             "#fb9f3a"
            ],
            [
             0.8888888888888888,
             "#fdca26"
            ],
            [
             1,
             "#f0f921"
            ]
           ]
          },
          "colorway": [
           "#636efa",
           "#EF553B",
           "#00cc96",
           "#ab63fa",
           "#FFA15A",
           "#19d3f3",
           "#FF6692",
           "#B6E880",
           "#FF97FF",
           "#FECB52"
          ],
          "font": {
           "color": "#2a3f5f"
          },
          "geo": {
           "bgcolor": "white",
           "lakecolor": "white",
           "landcolor": "#E5ECF6",
           "showlakes": true,
           "showland": true,
           "subunitcolor": "white"
          },
          "hoverlabel": {
           "align": "left"
          },
          "hovermode": "closest",
          "mapbox": {
           "style": "light"
          },
          "paper_bgcolor": "white",
          "plot_bgcolor": "#E5ECF6",
          "polar": {
           "angularaxis": {
            "gridcolor": "white",
            "linecolor": "white",
            "ticks": ""
           },
           "bgcolor": "#E5ECF6",
           "radialaxis": {
            "gridcolor": "white",
            "linecolor": "white",
            "ticks": ""
           }
          },
          "scene": {
           "xaxis": {
            "backgroundcolor": "#E5ECF6",
            "gridcolor": "white",
            "gridwidth": 2,
            "linecolor": "white",
            "showbackground": true,
            "ticks": "",
            "zerolinecolor": "white"
           },
           "yaxis": {
            "backgroundcolor": "#E5ECF6",
            "gridcolor": "white",
            "gridwidth": 2,
            "linecolor": "white",
            "showbackground": true,
            "ticks": "",
            "zerolinecolor": "white"
           },
           "zaxis": {
            "backgroundcolor": "#E5ECF6",
            "gridcolor": "white",
            "gridwidth": 2,
            "linecolor": "white",
            "showbackground": true,
            "ticks": "",
            "zerolinecolor": "white"
           }
          },
          "shapedefaults": {
           "line": {
            "color": "#2a3f5f"
           }
          },
          "ternary": {
           "aaxis": {
            "gridcolor": "white",
            "linecolor": "white",
            "ticks": ""
           },
           "baxis": {
            "gridcolor": "white",
            "linecolor": "white",
            "ticks": ""
           },
           "bgcolor": "#E5ECF6",
           "caxis": {
            "gridcolor": "white",
            "linecolor": "white",
            "ticks": ""
           }
          },
          "title": {
           "x": 0.05
          },
          "xaxis": {
           "automargin": true,
           "gridcolor": "white",
           "linecolor": "white",
           "ticks": "",
           "title": {
            "standoff": 15
           },
           "zerolinecolor": "white",
           "zerolinewidth": 2
          },
          "yaxis": {
           "automargin": true,
           "gridcolor": "white",
           "linecolor": "white",
           "ticks": "",
           "title": {
            "standoff": 15
           },
           "zerolinecolor": "white",
           "zerolinewidth": 2
          }
         }
        },
        "title": {
         "text": "Relative Rotation Graph vs. NIFTY Index (2025-04-07)"
        },
        "width": 900,
        "xaxis": {
         "range": [
          -3,
          3
         ],
         "title": {
          "text": "Relative Strength Ratio (Z-score)"
         },
         "zeroline": true
        },
        "yaxis": {
         "range": [
          -3,
          3
         ],
         "title": {
          "text": "Relative Strength Momentum (Z-score)"
         },
         "zeroline": true
        }
       }
      }
     },
     "metadata": {},
     "output_type": "display_data"
    }
   ],
   "source": [
    "import pandas as pd\n",
    "import numpy as np\n",
    "import plotly.graph_objects as go\n",
    "from scipy.stats import zscore\n",
    "import plotly.express as px\n",
    "\n",
    "# Load the Excel data\n",
    "df = pd.read_excel(\"rrg_sectoral.xlsx\", parse_dates=[\"DATES\"], index_col=\"DATES\")\n",
    "\n",
    "# Define sectors and benchmark\n",
    "sectors = [\"FMCG\"]\n",
    "#sectors = [\"Auto\", \"Bank\", \"Chemicals\", \"Consumer Durables\", \"FMCG\", \"Healthcare\", \"Pharma\", \"IT\", \"Metal\"]\n",
    "benchmark = \"NIFTY Index\"\n",
    "slice_window = 5\n",
    "# Calculate Relative Strength Ratio (price of sector / price of benchmark)\n",
    "rs_ratios = df[sectors].div(df[benchmark], axis=0)\n",
    "short_period = 5\n",
    "rs_ratios =rs_ratios.iloc[::slice_window]\n",
    "rs_momentum = (rs_ratios / rs_ratios.shift(short_period) - 1) * 100\n",
    "rs_momentum = rs_momentum.iloc[::slice_window]\n",
    "rolling_window = 12\n",
    "\n",
    "rs_ratios_normalized = rs_ratios.rolling(window=rolling_window).apply(\n",
    "    lambda x: (x.iloc[-1] - x.mean()) / x.std() if len(x.dropna()) > 1 else 0\n",
    ")\n",
    "# Chop off the in-betweens: keep only points at each 7-day interval, starting from the latest date backwards\n",
    "# rs_ratios_normalized = rs_ratios_normalized.iloc[::-1].iloc[::7].iloc[::-1]\n",
    "# rs_ratios_normalized = rs_ratios_normalized.iloc[::slice_window]  # Reverse, slice every 7th, reverse back\n",
    "print(rs_ratios_normalized)\n",
    "rs_momentum_normalized = rs_momentum.rolling(window=rolling_window).apply(\n",
    "    lambda x: (x.iloc[-1] - x.mean()) / x.std() if len(x.dropna()) > 1 else 0\n",
    ")\n",
    "# Chop off the in-betweens: keep only points at each 7-day interval, starting from the latest date backwards\n",
    "# rs_momentum_normalized = rs_momentum_normalized.iloc[::-1].iloc[::7].iloc[::-1]\n",
    "# rs_momentum_normalized = rs_momentum_normalized.iloc[::slice_window]\n",
    "# Select the latest date for the plot\n",
    "target_date = rs_momentum_normalized.index[-1]\n",
    "rs_ratios_latest = rs_ratios_normalized.loc[target_date]\n",
    "rs_momentum_latest = rs_momentum_normalized.loc[target_date]\n",
    "\n",
    "# Create the RRG plot\n",
    "fig = go.Figure()\n",
    "\n",
    "# Define colors for sectors to ensure distinct visuals\n",
    "colors = px.colors.qualitative.Plotly[:len(sectors)]\n",
    "\n",
    "# Plot scatter points and tails for each sector\n",
    "for sector, color in zip(sectors, colors):\n",
    "    # Tail: Plot the last 21 days (approx. 1 month) for trend\n",
    "    tail_length = 30\n",
    "    tail_data_rs = rs_ratios_normalized[sector][-tail_length:].dropna()\n",
    "    tail_data_momentum = rs_momentum_normalized[sector][-tail_length:].dropna()\n",
    "    \n",
    "    if len(tail_data_rs) > 1:\n",
    "        # Plot the tail line\n",
    "        fig.add_trace(\n",
    "            go.Scatter(\n",
    "                x=tail_data_rs,\n",
    "                y=tail_data_momentum,\n",
    "                mode=\"lines\",\n",
    "                line=dict(color=color, width=3, dash=\"dash\"),\n",
    "                showlegend=False,\n",
    "                name=f\"{sector}_tail\"\n",
    "            )\n",
    "        )\n",
    "        \n",
    "        # Add arrows along the path to show direction\n",
    "        # Calculate arrow positions (every few points along the tail)\n",
    "        arrow_interval = max(1,0)  # Show ~5 arrows max\n",
    "        \n",
    "        for i in range(arrow_interval, len(tail_data_rs), arrow_interval):\n",
    "            if i < len(tail_data_rs) - 1:\n",
    "                # Current and next points\n",
    "                x1, y1 = tail_data_rs.iloc[i-1], tail_data_momentum.iloc[i-1]\n",
    "                x2, y2 = tail_data_rs.iloc[i], tail_data_momentum.iloc[i]\n",
    "                \n",
    "                # Calculate arrow direction\n",
    "                dx = x2 - x1\n",
    "                dy = y2 - y1\n",
    "                \n",
    "                # Normalize arrow length\n",
    "                arrow_length = 0.1\n",
    "                if dx != 0 or dy != 0:\n",
    "                    length = np.sqrt(dx**2 + dy**2)\n",
    "                    if length > 0:\n",
    "                        dx_norm = (dx / length) * arrow_length\n",
    "                        dy_norm = (dy / length) * arrow_length\n",
    "                        \n",
    "                        # Add arrow annotation\n",
    "                        fig.add_annotation(\n",
    "                            x=x2,\n",
    "                            y=y2,\n",
    "                            ax=x2 - dx_norm,\n",
    "                            ay=y2 - dy_norm,\n",
    "                            xref=\"x\",\n",
    "                            yref=\"y\",\n",
    "                            axref=\"x\",\n",
    "                            ayref=\"y\",\n",
    "                            showarrow=True,\n",
    "                            arrowhead=2,\n",
    "                            arrowsize=1,\n",
    "                            arrowwidth=2,\n",
    "                            arrowcolor=color,\n",
    "                            bgcolor=\"rgba(0,0,0,0)\",\n",
    "                            bordercolor=\"rgba(0,0,0,0)\"\n",
    "                        )\n",
    "    \n",
    "    # Scatter point for the latest date (current position)\n",
    "    fig.add_trace(\n",
    "        go.Scatter(\n",
    "            x=[rs_ratios_latest[sector]],\n",
    "            y=[rs_momentum_latest[sector]],\n",
    "            mode=\"markers+text\",\n",
    "            name=sector,\n",
    "            marker=dict(size=15, color=color, symbol=\"circle\", \n",
    "                       line=dict(width=2, color=\"white\")),\n",
    "            text=[sector],\n",
    "            textposition=\"top center\",\n",
    "            textfont=dict(size=12, color=\"black\")\n",
    "        )\n",
    "    )\n",
    "    \n",
    "    # Add a larger arrow at the very end to show most recent direction\n",
    "    if len(tail_data_rs) > 1:\n",
    "        # Last two points for final direction\n",
    "        x1, y1 = tail_data_rs.iloc[-2], tail_data_momentum.iloc[-2]\n",
    "        x2, y2 = tail_data_rs.iloc[-1], tail_data_momentum.iloc[-1]\n",
    "        \n",
    "        dx = x2 - x1\n",
    "        dy = y2 - y1\n",
    "        \n",
    "        if dx != 0 or dy != 0:\n",
    "            length = np.sqrt(dx**2 + dy**2)\n",
    "            if length > 0:\n",
    "                arrow_length = 0.15\n",
    "                dx_norm = (dx / length) * arrow_length\n",
    "                dy_norm = (dy / length) * arrow_length\n",
    "                \n",
    "                fig.add_annotation(\n",
    "                    x=x2,\n",
    "                    y=y2,\n",
    "                    ax=x2 - dx_norm,\n",
    "                    ay=y2 - dy_norm,\n",
    "                    xref=\"x\",\n",
    "                    yref=\"y\",\n",
    "                    axref=\"x\",\n",
    "                    ayref=\"y\",\n",
    "                    showarrow=True,\n",
    "                    arrowhead=3,\n",
    "                    arrowsize=2,\n",
    "                    arrowwidth=3,\n",
    "                    arrowcolor=color,\n",
    "                    bgcolor=\"rgba(0,0,0,0)\",\n",
    "                    bordercolor=\"rgba(0,0,0,0)\"\n",
    "                )\n",
    "\n",
    "# Add quadrant lines and background colors\n",
    "fig.add_shape(type=\"line\", x0=0, y0=-3, x1=0, y1=3, line=dict(color=\"black\", width=1))\n",
    "fig.add_shape(type=\"line\", x0=-3, y0=0, x1=3, y1=0, line=dict(color=\"black\", width=1))\n",
    "\n",
    "# Add colored quadrant backgrounds\n",
    "fig.add_shape(type=\"rect\", x0=0, y0=0, x1=3, y1=3, fillcolor=\"lightgreen\", opacity=0.3, layer=\"below\")\n",
    "fig.add_shape(type=\"rect\", x0=0, y0=0, x1=3, y1=-3, fillcolor=\"yellow\", opacity=0.3, layer=\"below\")\n",
    "fig.add_shape(type=\"rect\", x0=0, y0=0, x1=-3, y1=-3, fillcolor=\"lightcoral\", opacity=0.3, layer=\"below\")\n",
    "fig.add_shape(type=\"rect\", x0=0, y0=0, x1=-3, y1=3, fillcolor=\"lightblue\", opacity=0.3, layer=\"below\")\n",
    "\n",
    "# Add quadrant labels\n",
    "fig.add_annotation(x=1.5, y=1.5, text=\"Leading<br>(Strong & Improving)\", \n",
    "                  showarrow=False, font=dict(size=10, color=\"darkgreen\"))\n",
    "fig.add_annotation(x=1.5, y=-1.5, text=\"Weakening<br>(Strong & Deteriorating)\", \n",
    "                  showarrow=False, font=dict(size=10, color=\"orange\"))\n",
    "fig.add_annotation(x=-1.5, y=-1.5, text=\"Lagging<br>(Weak & Deteriorating)\", \n",
    "                  showarrow=False, font=dict(size=10, color=\"darkred\"))\n",
    "fig.add_annotation(x=-1.5, y=1.5, text=\"Improving<br>(Weak & Improving)\", \n",
    "                  showarrow=False, font=dict(size=10, color=\"blue\"))\n",
    "\n",
    "# Update layout\n",
    "fig.update_layout(\n",
    "    title=f\"Relative Rotation Graph vs. {benchmark} ({target_date.strftime('%Y-%m-%d')})\",\n",
    "    xaxis_title=\"Relative Strength Ratio (Z-score)\",\n",
    "    yaxis_title=\"Relative Strength Momentum (Z-score)\",\n",
    "    showlegend=True,\n",
    "    width=900,\n",
    "    height=700,\n",
    "    xaxis=dict(range=[-3, 3], zeroline=True),\n",
    "    yaxis=dict(range=[-3, 3], zeroline=True)\n",
    ")\n",
    "\n",
    "# Show plot\n",
    "fig.show()\n",
    "#curvature and toggle , application\n"
   ]
  },
  {
   "cell_type": "code",
   "execution_count": 151,
   "id": "8889a0f0",
   "metadata": {},
   "outputs": [
    {
     "data": {
      "application/vnd.plotly.v1+json": {
       "config": {
        "plotlyServerURL": "https://plot.ly"
       },
       "data": [
        {
         "line": {
          "color": "blue"
         },
         "mode": "lines",
         "name": "RS Ratio",
         "type": "scatter",
         "x": [
          "2025-02-19T00:00:00.000000000",
          "2025-02-27T00:00:00.000000000",
          "2025-03-06T00:00:00.000000000",
          "2025-03-13T00:00:00.000000000",
          "2025-03-21T00:00:00.000000000",
          "2025-03-28T00:00:00.000000000",
          "2025-04-07T00:00:00.000000000",
          "2025-04-16T00:00:00.000000000",
          "2025-04-24T00:00:00.000000000",
          "2025-05-02T00:00:00.000000000"
         ],
         "y": {
          "bdata": "ThgdFfdg/r87ErINribyvxDTvft4pPK/Fus2xooP678Wbfc99sP5v2vdCKhOevK/RYElLqF67j/1g6VsM5fuP8TAFu9L5rQ/GBgJmVTc278=",
          "dtype": "f8"
         }
        },
        {
         "line": {
          "color": "orange"
         },
         "mode": "lines",
         "name": "RS Momentum",
         "type": "scatter",
         "x": [
          "2025-02-19T00:00:00.000000000",
          "2025-02-27T00:00:00.000000000",
          "2025-03-06T00:00:00.000000000",
          "2025-03-13T00:00:00.000000000",
          "2025-03-21T00:00:00.000000000",
          "2025-03-28T00:00:00.000000000",
          "2025-04-07T00:00:00.000000000",
          "2025-04-16T00:00:00.000000000",
          "2025-04-24T00:00:00.000000000",
          "2025-05-02T00:00:00.000000000"
         ],
         "y": {
          "bdata": "mzJrjDb27b8hLPojCbbmPxgq0X+n08C/SU1cu1gT2z/PhTBbRZzxv8buLYfImN0/szv+T3VmB0CCZ3pNIJOBP/+sMKxL6O2/kdL70n7S4L8=",
          "dtype": "f8"
         },
         "yaxis": "y2"
        }
       ],
       "layout": {
        "height": 500,
        "hovermode": "x unified",
        "showlegend": true,
        "template": {
         "data": {
          "bar": [
           {
            "error_x": {
             "color": "#2a3f5f"
            },
            "error_y": {
             "color": "#2a3f5f"
            },
            "marker": {
             "line": {
              "color": "#E5ECF6",
              "width": 0.5
             },
             "pattern": {
              "fillmode": "overlay",
              "size": 10,
              "solidity": 0.2
             }
            },
            "type": "bar"
           }
          ],
          "barpolar": [
           {
            "marker": {
             "line": {
              "color": "#E5ECF6",
              "width": 0.5
             },
             "pattern": {
              "fillmode": "overlay",
              "size": 10,
              "solidity": 0.2
             }
            },
            "type": "barpolar"
           }
          ],
          "carpet": [
           {
            "aaxis": {
             "endlinecolor": "#2a3f5f",
             "gridcolor": "white",
             "linecolor": "white",
             "minorgridcolor": "white",
             "startlinecolor": "#2a3f5f"
            },
            "baxis": {
             "endlinecolor": "#2a3f5f",
             "gridcolor": "white",
             "linecolor": "white",
             "minorgridcolor": "white",
             "startlinecolor": "#2a3f5f"
            },
            "type": "carpet"
           }
          ],
          "choropleth": [
           {
            "colorbar": {
             "outlinewidth": 0,
             "ticks": ""
            },
            "type": "choropleth"
           }
          ],
          "contour": [
           {
            "colorbar": {
             "outlinewidth": 0,
             "ticks": ""
            },
            "colorscale": [
             [
              0,
              "#0d0887"
             ],
             [
              0.1111111111111111,
              "#46039f"
             ],
             [
              0.2222222222222222,
              "#7201a8"
             ],
             [
              0.3333333333333333,
              "#9c179e"
             ],
             [
              0.4444444444444444,
              "#bd3786"
             ],
             [
              0.5555555555555556,
              "#d8576b"
             ],
             [
              0.6666666666666666,
              "#ed7953"
             ],
             [
              0.7777777777777778,
              "#fb9f3a"
             ],
             [
              0.8888888888888888,
              "#fdca26"
             ],
             [
              1,
              "#f0f921"
             ]
            ],
            "type": "contour"
           }
          ],
          "contourcarpet": [
           {
            "colorbar": {
             "outlinewidth": 0,
             "ticks": ""
            },
            "type": "contourcarpet"
           }
          ],
          "heatmap": [
           {
            "colorbar": {
             "outlinewidth": 0,
             "ticks": ""
            },
            "colorscale": [
             [
              0,
              "#0d0887"
             ],
             [
              0.1111111111111111,
              "#46039f"
             ],
             [
              0.2222222222222222,
              "#7201a8"
             ],
             [
              0.3333333333333333,
              "#9c179e"
             ],
             [
              0.4444444444444444,
              "#bd3786"
             ],
             [
              0.5555555555555556,
              "#d8576b"
             ],
             [
              0.6666666666666666,
              "#ed7953"
             ],
             [
              0.7777777777777778,
              "#fb9f3a"
             ],
             [
              0.8888888888888888,
              "#fdca26"
             ],
             [
              1,
              "#f0f921"
             ]
            ],
            "type": "heatmap"
           }
          ],
          "histogram": [
           {
            "marker": {
             "pattern": {
              "fillmode": "overlay",
              "size": 10,
              "solidity": 0.2
             }
            },
            "type": "histogram"
           }
          ],
          "histogram2d": [
           {
            "colorbar": {
             "outlinewidth": 0,
             "ticks": ""
            },
            "colorscale": [
             [
              0,
              "#0d0887"
             ],
             [
              0.1111111111111111,
              "#46039f"
             ],
             [
              0.2222222222222222,
              "#7201a8"
             ],
             [
              0.3333333333333333,
              "#9c179e"
             ],
             [
              0.4444444444444444,
              "#bd3786"
             ],
             [
              0.5555555555555556,
              "#d8576b"
             ],
             [
              0.6666666666666666,
              "#ed7953"
             ],
             [
              0.7777777777777778,
              "#fb9f3a"
             ],
             [
              0.8888888888888888,
              "#fdca26"
             ],
             [
              1,
              "#f0f921"
             ]
            ],
            "type": "histogram2d"
           }
          ],
          "histogram2dcontour": [
           {
            "colorbar": {
             "outlinewidth": 0,
             "ticks": ""
            },
            "colorscale": [
             [
              0,
              "#0d0887"
             ],
             [
              0.1111111111111111,
              "#46039f"
             ],
             [
              0.2222222222222222,
              "#7201a8"
             ],
             [
              0.3333333333333333,
              "#9c179e"
             ],
             [
              0.4444444444444444,
              "#bd3786"
             ],
             [
              0.5555555555555556,
              "#d8576b"
             ],
             [
              0.6666666666666666,
              "#ed7953"
             ],
             [
              0.7777777777777778,
              "#fb9f3a"
             ],
             [
              0.8888888888888888,
              "#fdca26"
             ],
             [
              1,
              "#f0f921"
             ]
            ],
            "type": "histogram2dcontour"
           }
          ],
          "mesh3d": [
           {
            "colorbar": {
             "outlinewidth": 0,
             "ticks": ""
            },
            "type": "mesh3d"
           }
          ],
          "parcoords": [
           {
            "line": {
             "colorbar": {
              "outlinewidth": 0,
              "ticks": ""
             }
            },
            "type": "parcoords"
           }
          ],
          "pie": [
           {
            "automargin": true,
            "type": "pie"
           }
          ],
          "scatter": [
           {
            "fillpattern": {
             "fillmode": "overlay",
             "size": 10,
             "solidity": 0.2
            },
            "type": "scatter"
           }
          ],
          "scatter3d": [
           {
            "line": {
             "colorbar": {
              "outlinewidth": 0,
              "ticks": ""
             }
            },
            "marker": {
             "colorbar": {
              "outlinewidth": 0,
              "ticks": ""
             }
            },
            "type": "scatter3d"
           }
          ],
          "scattercarpet": [
           {
            "marker": {
             "colorbar": {
              "outlinewidth": 0,
              "ticks": ""
             }
            },
            "type": "scattercarpet"
           }
          ],
          "scattergeo": [
           {
            "marker": {
             "colorbar": {
              "outlinewidth": 0,
              "ticks": ""
             }
            },
            "type": "scattergeo"
           }
          ],
          "scattergl": [
           {
            "marker": {
             "colorbar": {
              "outlinewidth": 0,
              "ticks": ""
             }
            },
            "type": "scattergl"
           }
          ],
          "scattermap": [
           {
            "marker": {
             "colorbar": {
              "outlinewidth": 0,
              "ticks": ""
             }
            },
            "type": "scattermap"
           }
          ],
          "scattermapbox": [
           {
            "marker": {
             "colorbar": {
              "outlinewidth": 0,
              "ticks": ""
             }
            },
            "type": "scattermapbox"
           }
          ],
          "scatterpolar": [
           {
            "marker": {
             "colorbar": {
              "outlinewidth": 0,
              "ticks": ""
             }
            },
            "type": "scatterpolar"
           }
          ],
          "scatterpolargl": [
           {
            "marker": {
             "colorbar": {
              "outlinewidth": 0,
              "ticks": ""
             }
            },
            "type": "scatterpolargl"
           }
          ],
          "scatterternary": [
           {
            "marker": {
             "colorbar": {
              "outlinewidth": 0,
              "ticks": ""
             }
            },
            "type": "scatterternary"
           }
          ],
          "surface": [
           {
            "colorbar": {
             "outlinewidth": 0,
             "ticks": ""
            },
            "colorscale": [
             [
              0,
              "#0d0887"
             ],
             [
              0.1111111111111111,
              "#46039f"
             ],
             [
              0.2222222222222222,
              "#7201a8"
             ],
             [
              0.3333333333333333,
              "#9c179e"
             ],
             [
              0.4444444444444444,
              "#bd3786"
             ],
             [
              0.5555555555555556,
              "#d8576b"
             ],
             [
              0.6666666666666666,
              "#ed7953"
             ],
             [
              0.7777777777777778,
              "#fb9f3a"
             ],
             [
              0.8888888888888888,
              "#fdca26"
             ],
             [
              1,
              "#f0f921"
             ]
            ],
            "type": "surface"
           }
          ],
          "table": [
           {
            "cells": {
             "fill": {
              "color": "#EBF0F8"
             },
             "line": {
              "color": "white"
             }
            },
            "header": {
             "fill": {
              "color": "#C8D4E3"
             },
             "line": {
              "color": "white"
             }
            },
            "type": "table"
           }
          ]
         },
         "layout": {
          "annotationdefaults": {
           "arrowcolor": "#2a3f5f",
           "arrowhead": 0,
           "arrowwidth": 1
          },
          "autotypenumbers": "strict",
          "coloraxis": {
           "colorbar": {
            "outlinewidth": 0,
            "ticks": ""
           }
          },
          "colorscale": {
           "diverging": [
            [
             0,
             "#8e0152"
            ],
            [
             0.1,
             "#c51b7d"
            ],
            [
             0.2,
             "#de77ae"
            ],
            [
             0.3,
             "#f1b6da"
            ],
            [
             0.4,
             "#fde0ef"
            ],
            [
             0.5,
             "#f7f7f7"
            ],
            [
             0.6,
             "#e6f5d0"
            ],
            [
             0.7,
             "#b8e186"
            ],
            [
             0.8,
             "#7fbc41"
            ],
            [
             0.9,
             "#4d9221"
            ],
            [
             1,
             "#276419"
            ]
           ],
           "sequential": [
            [
             0,
             "#0d0887"
            ],
            [
             0.1111111111111111,
             "#46039f"
            ],
            [
             0.2222222222222222,
             "#7201a8"
            ],
            [
             0.3333333333333333,
             "#9c179e"
            ],
            [
             0.4444444444444444,
             "#bd3786"
            ],
            [
             0.5555555555555556,
             "#d8576b"
            ],
            [
             0.6666666666666666,
             "#ed7953"
            ],
            [
             0.7777777777777778,
             "#fb9f3a"
            ],
            [
             0.8888888888888888,
             "#fdca26"
            ],
            [
             1,
             "#f0f921"
            ]
           ],
           "sequentialminus": [
            [
             0,
             "#0d0887"
            ],
            [
             0.1111111111111111,
             "#46039f"
            ],
            [
             0.2222222222222222,
             "#7201a8"
            ],
            [
             0.3333333333333333,
             "#9c179e"
            ],
            [
             0.4444444444444444,
             "#bd3786"
            ],
            [
             0.5555555555555556,
             "#d8576b"
            ],
            [
             0.6666666666666666,
             "#ed7953"
            ],
            [
             0.7777777777777778,
             "#fb9f3a"
            ],
            [
             0.8888888888888888,
             "#fdca26"
            ],
            [
             1,
             "#f0f921"
            ]
           ]
          },
          "colorway": [
           "#636efa",
           "#EF553B",
           "#00cc96",
           "#ab63fa",
           "#FFA15A",
           "#19d3f3",
           "#FF6692",
           "#B6E880",
           "#FF97FF",
           "#FECB52"
          ],
          "font": {
           "color": "#2a3f5f"
          },
          "geo": {
           "bgcolor": "white",
           "lakecolor": "white",
           "landcolor": "#E5ECF6",
           "showlakes": true,
           "showland": true,
           "subunitcolor": "white"
          },
          "hoverlabel": {
           "align": "left"
          },
          "hovermode": "closest",
          "mapbox": {
           "style": "light"
          },
          "paper_bgcolor": "white",
          "plot_bgcolor": "#E5ECF6",
          "polar": {
           "angularaxis": {
            "gridcolor": "white",
            "linecolor": "white",
            "ticks": ""
           },
           "bgcolor": "#E5ECF6",
           "radialaxis": {
            "gridcolor": "white",
            "linecolor": "white",
            "ticks": ""
           }
          },
          "scene": {
           "xaxis": {
            "backgroundcolor": "#E5ECF6",
            "gridcolor": "white",
            "gridwidth": 2,
            "linecolor": "white",
            "showbackground": true,
            "ticks": "",
            "zerolinecolor": "white"
           },
           "yaxis": {
            "backgroundcolor": "#E5ECF6",
            "gridcolor": "white",
            "gridwidth": 2,
            "linecolor": "white",
            "showbackground": true,
            "ticks": "",
            "zerolinecolor": "white"
           },
           "zaxis": {
            "backgroundcolor": "#E5ECF6",
            "gridcolor": "white",
            "gridwidth": 2,
            "linecolor": "white",
            "showbackground": true,
            "ticks": "",
            "zerolinecolor": "white"
           }
          },
          "shapedefaults": {
           "line": {
            "color": "#2a3f5f"
           }
          },
          "ternary": {
           "aaxis": {
            "gridcolor": "white",
            "linecolor": "white",
            "ticks": ""
           },
           "baxis": {
            "gridcolor": "white",
            "linecolor": "white",
            "ticks": ""
           },
           "bgcolor": "#E5ECF6",
           "caxis": {
            "gridcolor": "white",
            "linecolor": "white",
            "ticks": ""
           }
          },
          "title": {
           "x": 0.05
          },
          "xaxis": {
           "automargin": true,
           "gridcolor": "white",
           "linecolor": "white",
           "ticks": "",
           "title": {
            "standoff": 15
           },
           "zerolinecolor": "white",
           "zerolinewidth": 2
          },
          "yaxis": {
           "automargin": true,
           "gridcolor": "white",
           "linecolor": "white",
           "ticks": "",
           "title": {
            "standoff": 15
           },
           "zerolinecolor": "white",
           "zerolinewidth": 2
          }
         }
        },
        "title": {
         "text": "Time Series of RS Ratio and RS Momentum for Pharma (Last 10 Days)"
        },
        "width": 1000,
        "xaxis": {
         "title": {
          "text": "Date"
         }
        },
        "yaxis": {
         "tickfont": {
          "color": "blue"
         },
         "title": {
          "text": "Relative Strength Ratio (Z-score)"
         }
        },
        "yaxis2": {
         "overlaying": "y",
         "side": "right",
         "tickfont": {
          "color": "orange"
         },
         "title": {
          "text": "Relative Strength Momentum (Z-score)"
         }
        }
       }
      }
     },
     "metadata": {},
     "output_type": "display_data"
    }
   ],
   "source": [
    "import plotly.graph_objects as go\n",
    "\n",
    "# Parameter to control the number of past days to plot\n",
    "past_days = 10  # Adjust this value as needed (e.g., 126 for 6 months, 63 for 3 months)\n",
    "\n",
    "# Filter data for the specified past days\n",
    "start_date = rs_ratios_normalized.index[-past_days]\n",
    "rs_ratios_filtered = rs_ratios_normalized.loc[start_date:]\n",
    "rs_momentum_filtered = rs_momentum_normalized.loc[start_date:]\n",
    "\n",
    "# Create the plot with dual y-axes\n",
    "fig = go.Figure()\n",
    "\n",
    "# Add RS Ratio (left y-axis)\n",
    "fig.add_trace(\n",
    "    go.Scatter(\n",
    "        x=rs_ratios_filtered.index,\n",
    "        y=rs_ratios_filtered[\"FMCG\"],\n",
    "        mode=\"lines\",\n",
    "        name=\"RS Ratio\",\n",
    "        line=dict(color=\"blue\")\n",
    "    )\n",
    ")\n",
    "\n",
    "# Add RS Momentum (right y-axis)\n",
    "fig.add_trace(\n",
    "    go.Scatter(\n",
    "        x=rs_momentum_filtered.index,\n",
    "        y=rs_momentum_filtered[\"FMCG\"],\n",
    "        mode=\"lines\",\n",
    "        name=\"RS Momentum\",\n",
    "        line=dict(color=\"orange\"),\n",
    "        yaxis=\"y2\"\n",
    "    )\n",
    ")\n",
    "\n",
    "# Update layout with dual y-axes\n",
    "fig.update_layout(\n",
    "    title=f\"Time Series of RS Ratio and RS Momentum for Pharma (Last {past_days} Days)\",\n",
    "    xaxis_title=\"Date\",\n",
    "    yaxis=dict(title=\"Relative Strength Ratio (Z-score)\", tickfont=dict(color=\"blue\")),\n",
    "    yaxis2=dict(title=\"Relative Strength Momentum (Z-score)\", tickfont=dict(color=\"orange\"), overlaying=\"y\", side=\"right\"),\n",
    "    width=1000,\n",
    "    height=500,\n",
    "    showlegend=True,\n",
    "    hovermode=\"x unified\"\n",
    ")\n",
    "\n",
    "# Show plot\n",
    "fig.show()"
   ]
  },
  {
   "cell_type": "code",
   "execution_count": 154,
   "id": "f10c8159",
   "metadata": {},
   "outputs": [
    {
     "name": "stdout",
     "output_type": "stream",
     "text": [
      "            NSELV30 Index\n",
      "DATES                    \n",
      "2018-01-01            NaN\n",
      "2018-01-08            NaN\n",
      "2018-01-15            NaN\n",
      "2018-01-22            NaN\n",
      "2018-01-29            NaN\n",
      "...                   ...\n",
      "2025-04-07      -0.046052\n",
      "2025-04-14      -0.120270\n",
      "2025-04-21      -1.465469\n",
      "2025-04-28      -0.972183\n",
      "2025-05-05      -1.378415\n",
      "\n",
      "[384 rows x 1 columns]\n"
     ]
    },
    {
     "data": {
      "application/vnd.plotly.v1+json": {
       "config": {
        "plotlyServerURL": "https://plot.ly"
       },
       "data": [
        {
         "line": {
          "color": "#636EFA",
          "dash": "dash",
          "width": 3
         },
         "mode": "lines",
         "name": "NSELV30 Index_tail",
         "showlegend": false,
         "type": "scatter",
         "x": {
          "bdata": "UirdwtSi0D/RLSndFlTwvzxcMhTQtu+/NVBesrQ/+L8tbiaCjx7/v3LGjSk8XP2//XVXxENW/7/dszFsbwP5v4L3NPzQ6/u/qYJoVTn99L+1gwzr207Uv1eTM4S6m8Y/nvrtsIZe8T95dch8oxsAQGOCf/CyyfA/qIx5EhBwAECgYGXl/zD3P7pUsX1T/eY/T1j98WSK6z8K2DXveu/gP3lvVW80L+y/ayGrDtsZ+r8K2ALH7FX9vyEbURXZGQDAXPBsAi4B+L+Xp1roH5SnvwpGDgYKyr6/Qvqh6I9y97/16CHcHxzvv66ozof8Dfa/",
          "dtype": "f8"
         },
         "y": {
          "bdata": "ZDKYvr+f+L/oZV9Fb6T5v2YgaNg8TsU/dkYuFz/V6L/bRSgXTm3nv/SoA3MWD9C/9FIocadb5b99bry2YSPfPwnTqEcAE+y/hsQS3ovt+D+aZQJq5ZwCQMsiDA9Nz+4/KfPyc06u8z/RXnNTnT/zP9idlzzvYvS/f0FMXFmy+j+kx8VWFM3mvxpEKPsdjfG/ia5Y6XSkyz885HoCx5HivwrIpQpVs/2/OLyfG5ae4784X7i36HHYv44c8UBQQuK/4yHxYdsK3j91pPkurVkEQGIQz245R72/YQftpLTJ/b+c91mQVgbqP4iqb6Jgx9+/",
          "dtype": "f8"
         }
        },
        {
         "marker": {
          "color": "#636EFA",
          "line": {
           "color": "white",
           "width": 2
          },
          "size": 15,
          "symbol": "circle"
         },
         "mode": "markers+text",
         "name": "NSELV30 Index",
         "text": [
          "NSELV30 Index"
         ],
         "textfont": {
          "color": "black",
          "size": 12
         },
         "textposition": "top center",
         "type": "scatter",
         "x": [
          -1.3784146599742075
         ],
         "y": [
          -0.4965440355578399
         ]
        }
       ],
       "layout": {
        "annotations": [
         {
          "arrowcolor": "#636EFA",
          "arrowhead": 2,
          "arrowsize": 1,
          "arrowwidth": 2,
          "ax": -0.9206529115534967,
          "axref": "x",
          "ay": -1.5976809402166405,
          "ayref": "y",
          "bgcolor": "rgba(0,0,0,0)",
          "bordercolor": "rgba(0,0,0,0)",
          "showarrow": true,
          "x": -1.0205296172233498,
          "xref": "x",
          "y": -1.6026451787823763,
          "yref": "y"
         },
         {
          "arrowcolor": "#636EFA",
          "arrowhead": 2,
          "arrowsize": 1,
          "arrowwidth": 2,
          "ax": -0.9927312471591966,
          "axref": "x",
          "ay": 0.06646399034837519,
          "ayref": "y",
          "bgcolor": "rgba(0,0,0,0)",
          "bordercolor": "rgba(0,0,0,0)",
          "showarrow": true,
          "x": -0.9910660166232286,
          "xref": "x",
          "y": 0.1664501244233662,
          "yref": "y"
         },
         {
          "arrowcolor": "#636EFA",
          "arrowhead": 2,
          "arrowsize": 1,
          "arrowwidth": 2,
          "ax": -1.4669260978903806,
          "axref": "x",
          "ay": -0.6886502480720544,
          "ayref": "y",
          "bgcolor": "rgba(0,0,0,0)",
          "bordercolor": "rgba(0,0,0,0)",
          "showarrow": true,
          "x": -1.5155531852260655,
          "xref": "x",
          "y": -0.7760310604810019,
          "yref": "y"
         },
         {
          "arrowcolor": "#636EFA",
          "arrowhead": 2,
          "arrowsize": 1,
          "arrowwidth": 2,
          "ax": -1.8454805002243035,
          "axref": "x",
          "ay": -0.7422720184149121,
          "ayref": "y",
          "bgcolor": "rgba(0,0,0,0)",
          "bordercolor": "rgba(0,0,0,0)",
          "showarrow": true,
          "x": -1.9449610790242204,
          "xref": "x",
          "y": -0.732092900494702,
          "yref": "y"
         },
         {
          "arrowcolor": "#636EFA",
          "arrowhead": 2,
          "arrowsize": 1,
          "arrowwidth": 2,
          "ax": -1.8572932046601822,
          "axref": "x",
          "ay": -0.34840846447124973,
          "ayref": "y",
          "bgcolor": "rgba(0,0,0,0)",
          "bordercolor": "rgba(0,0,0,0)",
          "showarrow": true,
          "x": -1.835018312758987,
          "xref": "x",
          "y": -0.2509208796679012,
          "yref": "y"
         },
         {
          "arrowcolor": "#636EFA",
          "arrowhead": 2,
          "arrowsize": 1,
          "arrowwidth": 2,
          "ax": -1.930124412059166,
          "axref": "x",
          "ay": -0.5715665751622956,
          "ayref": "y",
          "bgcolor": "rgba(0,0,0,0)",
          "bordercolor": "rgba(0,0,0,0)",
          "showarrow": true,
          "x": -1.9585607213588212,
          "xref": "x",
          "y": -0.6674382410152178,
          "yref": "y"
         },
         {
          "arrowcolor": "#636EFA",
          "arrowhead": 2,
          "arrowsize": 1,
          "arrowwidth": 2,
          "ax": -1.5957398796137514,
          "axref": "x",
          "ay": 0.39192922907749983,
          "ayref": "y",
          "bgcolor": "rgba(0,0,0,0)",
          "bordercolor": "rgba(0,0,0,0)",
          "showarrow": true,
          "x": -1.5633386827787412,
          "xref": "x",
          "y": 0.4865345272571416,
          "yref": "y"
         },
         {
          "arrowcolor": "#636EFA",
          "arrowhead": 2,
          "arrowsize": 1,
          "arrowwidth": 2,
          "ax": -1.731864085977203,
          "axref": "x",
          "ay": -0.7781955987082332,
          "ayref": "y",
          "bgcolor": "rgba(0,0,0,0)",
          "bordercolor": "rgba(0,0,0,0)",
          "showarrow": true,
          "x": -1.7450723506767365,
          "xref": "x",
          "y": -0.8773194694136645,
          "yref": "y"
         },
         {
          "arrowcolor": "#636EFA",
          "arrowhead": 2,
          "arrowsize": 1,
          "arrowwidth": 2,
          "ax": -1.3293375555045297,
          "axref": "x",
          "ay": 1.4595405934565715,
          "ayref": "y",
          "bgcolor": "rgba(0,0,0,0)",
          "bordercolor": "rgba(0,0,0,0)",
          "showarrow": true,
          "x": -1.3118222557315369,
          "xref": "x",
          "y": 1.5579947161425323,
          "yref": "y"
         },
         {
          "arrowcolor": "#636EFA",
          "arrowhead": 2,
          "arrowsize": 1,
          "arrowwidth": 2,
          "ax": -0.39643665346267737,
          "axref": "x",
          "ay": 2.265458199779009,
          "ayref": "y",
          "bgcolor": "rgba(0,0,0,0)",
          "bordercolor": "rgba(0,0,0,0)",
          "showarrow": true,
          "x": -0.3173131747626557,
          "xref": "x",
          "y": 2.3266094476682158,
          "yref": "y"
         },
         {
          "arrowcolor": "#636EFA",
          "arrowhead": 2,
          "arrowsize": 1,
          "arrowwidth": 2,
          "ax": 0.14257424006448594,
          "axref": "x",
          "ay": 1.0568285849809353,
          "ayref": "y",
          "bgcolor": "rgba(0,0,0,0)",
          "bordercolor": "rgba(0,0,0,0)",
          "showarrow": true,
          "x": 0.17662745909833674,
          "xref": "x",
          "y": 0.9628052991766592,
          "yref": "y"
         },
         {
          "arrowcolor": "#636EFA",
          "arrowhead": 2,
          "arrowsize": 1,
          "arrowwidth": 2,
          "ax": 0.9896385972527777,
          "axref": "x",
          "ay": 1.2018472338712136,
          "ayref": "y",
          "bgcolor": "rgba(0,0,0,0)",
          "bordercolor": "rgba(0,0,0,0)",
          "showarrow": true,
          "x": 1.0855776702225408,
          "xref": "x",
          "y": 1.2300552872904496,
          "yref": "y"
         },
         {
          "arrowcolor": "#636EFA",
          "arrowhead": 2,
          "arrowsize": 1,
          "arrowwidth": 2,
          "ax": 1.9135378037937318,
          "axref": "x",
          "ay": 1.2059420319193719,
          "ayref": "y",
          "bgcolor": "rgba(0,0,0,0)",
          "bordercolor": "rgba(0,0,0,0)",
          "showarrow": true,
          "x": 2.0134954212832636,
          "xref": "x",
          "y": 1.2030308971206305,
          "yref": "y"
         },
         {
          "arrowcolor": "#636EFA",
          "arrowhead": 2,
          "arrowsize": 1,
          "arrowwidth": 2,
          "ax": 1.085517042278486,
          "axref": "x",
          "ay": -1.18096494580639,
          "ayref": "y",
          "bgcolor": "rgba(0,0,0,0)",
          "bordercolor": "rgba(0,0,0,0)",
          "showarrow": true,
          "x": 1.0492429155784968,
          "xref": "x",
          "y": -1.2741539351353506,
          "yref": "y"
         },
         {
          "arrowcolor": "#636EFA",
          "arrowhead": 2,
          "arrowsize": 1,
          "arrowwidth": 2,
          "ax": 2.022384989102589,
          "axref": "x",
          "ay": 1.5739136815289192,
          "ayref": "y",
          "bgcolor": "rgba(0,0,0,0)",
          "bordercolor": "rgba(0,0,0,0)",
          "showarrow": true,
          "x": 2.05471815522613,
          "xref": "x",
          "y": 1.6685422521005362,
          "yref": "y"
         },
         {
          "arrowcolor": "#636EFA",
          "arrowhead": 2,
          "arrowsize": 1,
          "arrowwidth": 2,
          "ax": 1.4740987301895896,
          "axref": "x",
          "ay": -0.6156162579071282,
          "ayref": "y",
          "bgcolor": "rgba(0,0,0,0)",
          "bordercolor": "rgba(0,0,0,0)",
          "showarrow": true,
          "x": 1.4494627915173979,
          "xref": "x",
          "y": -0.7125341124321847,
          "yref": "y"
         },
         {
          "arrowcolor": "#636EFA",
          "arrowhead": 2,
          "arrowsize": 1,
          "arrowwidth": 2,
          "ax": 0.8069323411043309,
          "axref": "x",
          "ay": -1.050409935783288,
          "ayref": "y",
          "bgcolor": "rgba(0,0,0,0)",
          "bordercolor": "rgba(0,0,0,0)",
          "showarrow": true,
          "x": 0.7184236006675271,
          "xref": "x",
          "y": -1.0969524203139884,
          "yref": "y"
         },
         {
          "arrowcolor": "#636EFA",
          "arrowhead": 2,
          "arrowsize": 1,
          "arrowwidth": 2,
          "ax": 0.8498743846733329,
          "axref": "x",
          "ay": 0.11653791660470322,
          "ayref": "y",
          "bgcolor": "rgba(0,0,0,0)",
          "bordercolor": "rgba(0,0,0,0)",
          "showarrow": true,
          "x": 0.8606438375816284,
          "xref": "x",
          "y": 0.21595631975047905,
          "yref": "y"
         },
         {
          "arrowcolor": "#636EFA",
          "arrowhead": 2,
          "arrowsize": 1,
          "arrowwidth": 2,
          "ax": 0.5676592943475396,
          "axref": "x",
          "ay": -0.4879725444306684,
          "ayref": "y",
          "bgcolor": "rgba(0,0,0,0)",
          "bordercolor": "rgba(0,0,0,0)",
          "showarrow": true,
          "x": 0.5292334243847574,
          "xref": "x",
          "y": -0.5802950905264264,
          "yref": "y"
         },
         {
          "arrowcolor": "#636EFA",
          "arrowhead": 2,
          "arrowsize": 1,
          "arrowwidth": 2,
          "ax": -0.8066159706789948,
          "axref": "x",
          "ay": -1.7891829391217562,
          "ayref": "y",
          "bgcolor": "rgba(0,0,0,0)",
          "bordercolor": "rgba(0,0,0,0)",
          "showarrow": true,
          "x": -0.8807623075949628,
          "xref": "x",
          "y": -1.8562822738572344,
          "yref": "y"
         },
         {
          "arrowcolor": "#636EFA",
          "arrowhead": 2,
          "arrowsize": 1,
          "arrowwidth": 2,
          "ax": -1.5796277989369074,
          "axref": "x",
          "ay": -0.6987165098441704,
          "ayref": "y",
          "bgcolor": "rgba(0,0,0,0)",
          "bordercolor": "rgba(0,0,0,0)",
          "showarrow": true,
          "x": -1.6313124249446342,
          "xref": "x",
          "y": -0.6131086864023763,
          "yref": "y"
         },
         {
          "arrowcolor": "#636EFA",
          "arrowhead": 2,
          "arrowsize": 1,
          "arrowwidth": 2,
          "ax": -1.767645075325453,
          "axref": "x",
          "ay": -0.45722567529994695,
          "ayref": "y",
          "bgcolor": "rgba(0,0,0,0)",
          "bordercolor": "rgba(0,0,0,0)",
          "showarrow": true,
          "x": -1.8334777616378255,
          "xref": "x",
          "y": -0.38195245686937396,
          "yref": "y"
         },
         {
          "arrowcolor": "#636EFA",
          "arrowhead": 2,
          "arrowsize": 1,
          "arrowwidth": 2,
          "ax": -1.9437596780441655,
          "axref": "x",
          "ay": -0.4980821050725137,
          "ayref": "y",
          "bgcolor": "rgba(0,0,0,0)",
          "bordercolor": "rgba(0,0,0,0)",
          "showarrow": true,
          "x": -2.0126210847260073,
          "xref": "x",
          "y": -0.5705949085612632,
          "yref": "y"
         },
         {
          "arrowcolor": "#636EFA",
          "arrowhead": 2,
          "arrowsize": 1,
          "arrowwidth": 2,
          "ax": -1.5444792852719114,
          "axref": "x",
          "ay": 0.3797068486251125,
          "ayref": "y",
          "bgcolor": "rgba(0,0,0,0)",
          "bordercolor": "rgba(0,0,0,0)",
          "showarrow": true,
          "x": -1.500288018679405,
          "xref": "x",
          "y": 0.46941265644684743,
          "yref": "y"
         },
         {
          "arrowcolor": "#636EFA",
          "arrowhead": 2,
          "arrowsize": 1,
          "arrowwidth": 2,
          "ax": -0.10345578433438811,
          "axref": "x",
          "ay": 2.4619044921724305,
          "ayref": "y",
          "bgcolor": "rgba(0,0,0,0)",
          "bordercolor": "rgba(0,0,0,0)",
          "showarrow": true,
          "x": -0.04605197631219864,
          "xref": "x",
          "y": 2.5437873525557344,
          "yref": "y"
         },
         {
          "arrowcolor": "#636EFA",
          "arrowhead": 2,
          "arrowsize": 1,
          "arrowwidth": 2,
          "ax": -0.11747935905829517,
          "axref": "x",
          "ay": -0.014407003665725754,
          "ayref": "y",
          "bgcolor": "rgba(0,0,0,0)",
          "bordercolor": "rgba(0,0,0,0)",
          "showarrow": true,
          "x": -0.12027037284703837,
          "xref": "x",
          "y": -0.1143680472878841,
          "yref": "y"
         },
         {
          "arrowcolor": "#636EFA",
          "arrowhead": 2,
          "arrowsize": 1,
          "arrowwidth": 2,
          "ax": -1.4044679132800844,
          "axref": "x",
          "ay": -1.7825054470354866,
          "ayref": "y",
          "bgcolor": "rgba(0,0,0,0)",
          "bordercolor": "rgba(0,0,0,0)",
          "showarrow": true,
          "x": -1.4654692733016792,
          "xref": "x",
          "y": -1.8617445413987854,
          "yref": "y"
         },
         {
          "arrowcolor": "#636EFA",
          "arrowhead": 2,
          "arrowsize": 1,
          "arrowwidth": 2,
          "ax": -0.9903178783380467,
          "axref": "x",
          "ay": 0.7149317849082253,
          "ayref": "y",
          "bgcolor": "rgba(0,0,0,0)",
          "bordercolor": "rgba(0,0,0,0)",
          "showarrow": true,
          "x": -0.9721831607305648,
          "xref": "x",
          "y": 0.8132736987461047,
          "yref": "y"
         },
         {
          "arrowcolor": "#636EFA",
          "arrowhead": 3,
          "arrowsize": 2,
          "arrowwidth": 3,
          "ax": -1.3339810839869417,
          "axref": "x",
          "ay": -0.35327625367725146,
          "ayref": "y",
          "bgcolor": "rgba(0,0,0,0)",
          "bordercolor": "rgba(0,0,0,0)",
          "showarrow": true,
          "x": -1.3784146599742075,
          "xref": "x",
          "y": -0.4965440355578399,
          "yref": "y"
         },
         {
          "font": {
           "color": "darkgreen",
           "size": 10
          },
          "showarrow": false,
          "text": "Leading<br>(Strong & Improving)",
          "x": 1.5,
          "y": 1.5
         },
         {
          "font": {
           "color": "orange",
           "size": 10
          },
          "showarrow": false,
          "text": "Weakening<br>(Strong & Deteriorating)",
          "x": 1.5,
          "y": -1.5
         },
         {
          "font": {
           "color": "darkred",
           "size": 10
          },
          "showarrow": false,
          "text": "Lagging<br>(Weak & Deteriorating)",
          "x": -1.5,
          "y": -1.5
         },
         {
          "font": {
           "color": "blue",
           "size": 10
          },
          "showarrow": false,
          "text": "Improving<br>(Weak & Improving)",
          "x": -1.5,
          "y": 1.5
         }
        ],
        "height": 700,
        "shapes": [
         {
          "line": {
           "color": "black",
           "width": 1
          },
          "type": "line",
          "x0": 0,
          "x1": 0,
          "y0": -3,
          "y1": 3
         },
         {
          "line": {
           "color": "black",
           "width": 1
          },
          "type": "line",
          "x0": -3,
          "x1": 3,
          "y0": 0,
          "y1": 0
         },
         {
          "fillcolor": "lightgreen",
          "layer": "below",
          "opacity": 0.3,
          "type": "rect",
          "x0": 0,
          "x1": 3,
          "y0": 0,
          "y1": 3
         },
         {
          "fillcolor": "yellow",
          "layer": "below",
          "opacity": 0.3,
          "type": "rect",
          "x0": 0,
          "x1": 3,
          "y0": 0,
          "y1": -3
         },
         {
          "fillcolor": "lightcoral",
          "layer": "below",
          "opacity": 0.3,
          "type": "rect",
          "x0": 0,
          "x1": -3,
          "y0": 0,
          "y1": -3
         },
         {
          "fillcolor": "lightblue",
          "layer": "below",
          "opacity": 0.3,
          "type": "rect",
          "x0": 0,
          "x1": -3,
          "y0": 0,
          "y1": 3
         }
        ],
        "showlegend": true,
        "template": {
         "data": {
          "bar": [
           {
            "error_x": {
             "color": "#2a3f5f"
            },
            "error_y": {
             "color": "#2a3f5f"
            },
            "marker": {
             "line": {
              "color": "#E5ECF6",
              "width": 0.5
             },
             "pattern": {
              "fillmode": "overlay",
              "size": 10,
              "solidity": 0.2
             }
            },
            "type": "bar"
           }
          ],
          "barpolar": [
           {
            "marker": {
             "line": {
              "color": "#E5ECF6",
              "width": 0.5
             },
             "pattern": {
              "fillmode": "overlay",
              "size": 10,
              "solidity": 0.2
             }
            },
            "type": "barpolar"
           }
          ],
          "carpet": [
           {
            "aaxis": {
             "endlinecolor": "#2a3f5f",
             "gridcolor": "white",
             "linecolor": "white",
             "minorgridcolor": "white",
             "startlinecolor": "#2a3f5f"
            },
            "baxis": {
             "endlinecolor": "#2a3f5f",
             "gridcolor": "white",
             "linecolor": "white",
             "minorgridcolor": "white",
             "startlinecolor": "#2a3f5f"
            },
            "type": "carpet"
           }
          ],
          "choropleth": [
           {
            "colorbar": {
             "outlinewidth": 0,
             "ticks": ""
            },
            "type": "choropleth"
           }
          ],
          "contour": [
           {
            "colorbar": {
             "outlinewidth": 0,
             "ticks": ""
            },
            "colorscale": [
             [
              0,
              "#0d0887"
             ],
             [
              0.1111111111111111,
              "#46039f"
             ],
             [
              0.2222222222222222,
              "#7201a8"
             ],
             [
              0.3333333333333333,
              "#9c179e"
             ],
             [
              0.4444444444444444,
              "#bd3786"
             ],
             [
              0.5555555555555556,
              "#d8576b"
             ],
             [
              0.6666666666666666,
              "#ed7953"
             ],
             [
              0.7777777777777778,
              "#fb9f3a"
             ],
             [
              0.8888888888888888,
              "#fdca26"
             ],
             [
              1,
              "#f0f921"
             ]
            ],
            "type": "contour"
           }
          ],
          "contourcarpet": [
           {
            "colorbar": {
             "outlinewidth": 0,
             "ticks": ""
            },
            "type": "contourcarpet"
           }
          ],
          "heatmap": [
           {
            "colorbar": {
             "outlinewidth": 0,
             "ticks": ""
            },
            "colorscale": [
             [
              0,
              "#0d0887"
             ],
             [
              0.1111111111111111,
              "#46039f"
             ],
             [
              0.2222222222222222,
              "#7201a8"
             ],
             [
              0.3333333333333333,
              "#9c179e"
             ],
             [
              0.4444444444444444,
              "#bd3786"
             ],
             [
              0.5555555555555556,
              "#d8576b"
             ],
             [
              0.6666666666666666,
              "#ed7953"
             ],
             [
              0.7777777777777778,
              "#fb9f3a"
             ],
             [
              0.8888888888888888,
              "#fdca26"
             ],
             [
              1,
              "#f0f921"
             ]
            ],
            "type": "heatmap"
           }
          ],
          "histogram": [
           {
            "marker": {
             "pattern": {
              "fillmode": "overlay",
              "size": 10,
              "solidity": 0.2
             }
            },
            "type": "histogram"
           }
          ],
          "histogram2d": [
           {
            "colorbar": {
             "outlinewidth": 0,
             "ticks": ""
            },
            "colorscale": [
             [
              0,
              "#0d0887"
             ],
             [
              0.1111111111111111,
              "#46039f"
             ],
             [
              0.2222222222222222,
              "#7201a8"
             ],
             [
              0.3333333333333333,
              "#9c179e"
             ],
             [
              0.4444444444444444,
              "#bd3786"
             ],
             [
              0.5555555555555556,
              "#d8576b"
             ],
             [
              0.6666666666666666,
              "#ed7953"
             ],
             [
              0.7777777777777778,
              "#fb9f3a"
             ],
             [
              0.8888888888888888,
              "#fdca26"
             ],
             [
              1,
              "#f0f921"
             ]
            ],
            "type": "histogram2d"
           }
          ],
          "histogram2dcontour": [
           {
            "colorbar": {
             "outlinewidth": 0,
             "ticks": ""
            },
            "colorscale": [
             [
              0,
              "#0d0887"
             ],
             [
              0.1111111111111111,
              "#46039f"
             ],
             [
              0.2222222222222222,
              "#7201a8"
             ],
             [
              0.3333333333333333,
              "#9c179e"
             ],
             [
              0.4444444444444444,
              "#bd3786"
             ],
             [
              0.5555555555555556,
              "#d8576b"
             ],
             [
              0.6666666666666666,
              "#ed7953"
             ],
             [
              0.7777777777777778,
              "#fb9f3a"
             ],
             [
              0.8888888888888888,
              "#fdca26"
             ],
             [
              1,
              "#f0f921"
             ]
            ],
            "type": "histogram2dcontour"
           }
          ],
          "mesh3d": [
           {
            "colorbar": {
             "outlinewidth": 0,
             "ticks": ""
            },
            "type": "mesh3d"
           }
          ],
          "parcoords": [
           {
            "line": {
             "colorbar": {
              "outlinewidth": 0,
              "ticks": ""
             }
            },
            "type": "parcoords"
           }
          ],
          "pie": [
           {
            "automargin": true,
            "type": "pie"
           }
          ],
          "scatter": [
           {
            "fillpattern": {
             "fillmode": "overlay",
             "size": 10,
             "solidity": 0.2
            },
            "type": "scatter"
           }
          ],
          "scatter3d": [
           {
            "line": {
             "colorbar": {
              "outlinewidth": 0,
              "ticks": ""
             }
            },
            "marker": {
             "colorbar": {
              "outlinewidth": 0,
              "ticks": ""
             }
            },
            "type": "scatter3d"
           }
          ],
          "scattercarpet": [
           {
            "marker": {
             "colorbar": {
              "outlinewidth": 0,
              "ticks": ""
             }
            },
            "type": "scattercarpet"
           }
          ],
          "scattergeo": [
           {
            "marker": {
             "colorbar": {
              "outlinewidth": 0,
              "ticks": ""
             }
            },
            "type": "scattergeo"
           }
          ],
          "scattergl": [
           {
            "marker": {
             "colorbar": {
              "outlinewidth": 0,
              "ticks": ""
             }
            },
            "type": "scattergl"
           }
          ],
          "scattermap": [
           {
            "marker": {
             "colorbar": {
              "outlinewidth": 0,
              "ticks": ""
             }
            },
            "type": "scattermap"
           }
          ],
          "scattermapbox": [
           {
            "marker": {
             "colorbar": {
              "outlinewidth": 0,
              "ticks": ""
             }
            },
            "type": "scattermapbox"
           }
          ],
          "scatterpolar": [
           {
            "marker": {
             "colorbar": {
              "outlinewidth": 0,
              "ticks": ""
             }
            },
            "type": "scatterpolar"
           }
          ],
          "scatterpolargl": [
           {
            "marker": {
             "colorbar": {
              "outlinewidth": 0,
              "ticks": ""
             }
            },
            "type": "scatterpolargl"
           }
          ],
          "scatterternary": [
           {
            "marker": {
             "colorbar": {
              "outlinewidth": 0,
              "ticks": ""
             }
            },
            "type": "scatterternary"
           }
          ],
          "surface": [
           {
            "colorbar": {
             "outlinewidth": 0,
             "ticks": ""
            },
            "colorscale": [
             [
              0,
              "#0d0887"
             ],
             [
              0.1111111111111111,
              "#46039f"
             ],
             [
              0.2222222222222222,
              "#7201a8"
             ],
             [
              0.3333333333333333,
              "#9c179e"
             ],
             [
              0.4444444444444444,
              "#bd3786"
             ],
             [
              0.5555555555555556,
              "#d8576b"
             ],
             [
              0.6666666666666666,
              "#ed7953"
             ],
             [
              0.7777777777777778,
              "#fb9f3a"
             ],
             [
              0.8888888888888888,
              "#fdca26"
             ],
             [
              1,
              "#f0f921"
             ]
            ],
            "type": "surface"
           }
          ],
          "table": [
           {
            "cells": {
             "fill": {
              "color": "#EBF0F8"
             },
             "line": {
              "color": "white"
             }
            },
            "header": {
             "fill": {
              "color": "#C8D4E3"
             },
             "line": {
              "color": "white"
             }
            },
            "type": "table"
           }
          ]
         },
         "layout": {
          "annotationdefaults": {
           "arrowcolor": "#2a3f5f",
           "arrowhead": 0,
           "arrowwidth": 1
          },
          "autotypenumbers": "strict",
          "coloraxis": {
           "colorbar": {
            "outlinewidth": 0,
            "ticks": ""
           }
          },
          "colorscale": {
           "diverging": [
            [
             0,
             "#8e0152"
            ],
            [
             0.1,
             "#c51b7d"
            ],
            [
             0.2,
             "#de77ae"
            ],
            [
             0.3,
             "#f1b6da"
            ],
            [
             0.4,
             "#fde0ef"
            ],
            [
             0.5,
             "#f7f7f7"
            ],
            [
             0.6,
             "#e6f5d0"
            ],
            [
             0.7,
             "#b8e186"
            ],
            [
             0.8,
             "#7fbc41"
            ],
            [
             0.9,
             "#4d9221"
            ],
            [
             1,
             "#276419"
            ]
           ],
           "sequential": [
            [
             0,
             "#0d0887"
            ],
            [
             0.1111111111111111,
             "#46039f"
            ],
            [
             0.2222222222222222,
             "#7201a8"
            ],
            [
             0.3333333333333333,
             "#9c179e"
            ],
            [
             0.4444444444444444,
             "#bd3786"
            ],
            [
             0.5555555555555556,
             "#d8576b"
            ],
            [
             0.6666666666666666,
             "#ed7953"
            ],
            [
             0.7777777777777778,
             "#fb9f3a"
            ],
            [
             0.8888888888888888,
             "#fdca26"
            ],
            [
             1,
             "#f0f921"
            ]
           ],
           "sequentialminus": [
            [
             0,
             "#0d0887"
            ],
            [
             0.1111111111111111,
             "#46039f"
            ],
            [
             0.2222222222222222,
             "#7201a8"
            ],
            [
             0.3333333333333333,
             "#9c179e"
            ],
            [
             0.4444444444444444,
             "#bd3786"
            ],
            [
             0.5555555555555556,
             "#d8576b"
            ],
            [
             0.6666666666666666,
             "#ed7953"
            ],
            [
             0.7777777777777778,
             "#fb9f3a"
            ],
            [
             0.8888888888888888,
             "#fdca26"
            ],
            [
             1,
             "#f0f921"
            ]
           ]
          },
          "colorway": [
           "#636efa",
           "#EF553B",
           "#00cc96",
           "#ab63fa",
           "#FFA15A",
           "#19d3f3",
           "#FF6692",
           "#B6E880",
           "#FF97FF",
           "#FECB52"
          ],
          "font": {
           "color": "#2a3f5f"
          },
          "geo": {
           "bgcolor": "white",
           "lakecolor": "white",
           "landcolor": "#E5ECF6",
           "showlakes": true,
           "showland": true,
           "subunitcolor": "white"
          },
          "hoverlabel": {
           "align": "left"
          },
          "hovermode": "closest",
          "mapbox": {
           "style": "light"
          },
          "paper_bgcolor": "white",
          "plot_bgcolor": "#E5ECF6",
          "polar": {
           "angularaxis": {
            "gridcolor": "white",
            "linecolor": "white",
            "ticks": ""
           },
           "bgcolor": "#E5ECF6",
           "radialaxis": {
            "gridcolor": "white",
            "linecolor": "white",
            "ticks": ""
           }
          },
          "scene": {
           "xaxis": {
            "backgroundcolor": "#E5ECF6",
            "gridcolor": "white",
            "gridwidth": 2,
            "linecolor": "white",
            "showbackground": true,
            "ticks": "",
            "zerolinecolor": "white"
           },
           "yaxis": {
            "backgroundcolor": "#E5ECF6",
            "gridcolor": "white",
            "gridwidth": 2,
            "linecolor": "white",
            "showbackground": true,
            "ticks": "",
            "zerolinecolor": "white"
           },
           "zaxis": {
            "backgroundcolor": "#E5ECF6",
            "gridcolor": "white",
            "gridwidth": 2,
            "linecolor": "white",
            "showbackground": true,
            "ticks": "",
            "zerolinecolor": "white"
           }
          },
          "shapedefaults": {
           "line": {
            "color": "#2a3f5f"
           }
          },
          "ternary": {
           "aaxis": {
            "gridcolor": "white",
            "linecolor": "white",
            "ticks": ""
           },
           "baxis": {
            "gridcolor": "white",
            "linecolor": "white",
            "ticks": ""
           },
           "bgcolor": "#E5ECF6",
           "caxis": {
            "gridcolor": "white",
            "linecolor": "white",
            "ticks": ""
           }
          },
          "title": {
           "x": 0.05
          },
          "xaxis": {
           "automargin": true,
           "gridcolor": "white",
           "linecolor": "white",
           "ticks": "",
           "title": {
            "standoff": 15
           },
           "zerolinecolor": "white",
           "zerolinewidth": 2
          },
          "yaxis": {
           "automargin": true,
           "gridcolor": "white",
           "linecolor": "white",
           "ticks": "",
           "title": {
            "standoff": 15
           },
           "zerolinecolor": "white",
           "zerolinewidth": 2
          }
         }
        },
        "title": {
         "text": "Relative Rotation Graph vs. NIFTY Index (2025-05-05)"
        },
        "width": 900,
        "xaxis": {
         "range": [
          -3,
          3
         ],
         "title": {
          "text": "Relative Strength Ratio (Z-score)"
         },
         "zeroline": true
        },
        "yaxis": {
         "range": [
          -3,
          3
         ],
         "title": {
          "text": "Relative Strength Momentum (Z-score)"
         },
         "zeroline": true
        }
       }
      }
     },
     "metadata": {},
     "output_type": "display_data"
    }
   ],
   "source": [
    "import pandas as pd\n",
    "import numpy as np\n",
    "import plotly.graph_objects as go\n",
    "from scipy.stats import zscore\n",
    "import plotly.express as px\n",
    "\n",
    "# Load the Excel data\n",
    "df = pd.read_excel(\"rrg_data.xlsx\", parse_dates=[\"DATES\"], index_col=\"DATES\")\n",
    "\n",
    "# Define sectors and benchmark\n",
    "sectors = [ \"NSELV30 Index\"]\n",
    "# sectors = [\"NSELV30 Index\", \"N200MOMP Index\", \"NSEQ30TR Index\", \"NSENV20 Index\"]\n",
    "benchmark = \"NIFTY Index\"\n",
    "\n",
    "rs_ratios = df[sectors].div(df[benchmark], axis=0)\n",
    "short_period = 7\n",
    "rs_momentum = (rs_ratios / rs_ratios.shift(short_period) - 1) * 100\n",
    "rolling_window = 84\n",
    "\n",
    "rs_ratios_normalized = rs_ratios.rolling(window=rolling_window).apply(\n",
    "    lambda x: (x.iloc[-1] - x.mean()) / x.std() if len(x.dropna()) > 1 else 0\n",
    ")\n",
    "# Chop off the in-betweens: keep only points at each 7-day interval, starting from the latest date backwards\n",
    "# rs_ratios_normalized = rs_ratios_normalized.iloc[::-1].iloc[::7].iloc[::-1]\n",
    "rs_ratios_normalized = rs_ratios_normalized.iloc[::7]  # Reverse, slice every 7th, reverse back\n",
    "print(rs_ratios_normalized)\n",
    "rs_momentum_normalized = rs_momentum.rolling(window=rolling_window).apply(\n",
    "    lambda x: (x.iloc[-1] - x.mean()) / x.std() if len(x.dropna()) > 1 else 0\n",
    ")\n",
    "# Chop off the in-betweens: keep only points at each 7-day interval, starting from the latest date backwards\n",
    "# rs_momentum_normalized = rs_momentum_normalized.iloc[::-1].iloc[::7].iloc[::-1]\n",
    "rs_momentum_normalized = rs_momentum_normalized.iloc[::7]\n",
    "# Select the latest date for the plot\n",
    "target_date = rs_momentum_normalized.index[-1]\n",
    "rs_ratios_latest = rs_ratios_normalized.loc[target_date]\n",
    "rs_momentum_latest = rs_momentum_normalized.loc[target_date]\n",
    "\n",
    "# Create the RRG plot\n",
    "fig = go.Figure()\n",
    "\n",
    "# Define colors for sectors to ensure distinct visuals\n",
    "colors = px.colors.qualitative.Plotly[:len(sectors)]\n",
    "\n",
    "# Plot scatter points and tails for each sector\n",
    "for sector, color in zip(sectors, colors):\n",
    "    # Tail: Plot the last 21 days (approx. 1 month) for trend\n",
    "    tail_length = 30\n",
    "    tail_data_rs = rs_ratios_normalized[sector][-tail_length:].dropna()\n",
    "    tail_data_momentum = rs_momentum_normalized[sector][-tail_length:].dropna()\n",
    "    \n",
    "    if len(tail_data_rs) > 1:\n",
    "        # Plot the tail line\n",
    "        fig.add_trace(\n",
    "            go.Scatter(\n",
    "                x=tail_data_rs,\n",
    "                y=tail_data_momentum,\n",
    "                mode=\"lines\",\n",
    "                line=dict(color=color, width=3, dash=\"dash\"),\n",
    "                showlegend=False,\n",
    "                name=f\"{sector}_tail\"\n",
    "            )\n",
    "        )\n",
    "        \n",
    "        # Add arrows along the path to show direction\n",
    "        # Calculate arrow positions (every few points along the tail)\n",
    "        arrow_interval = max(1,0)  # Show ~5 arrows max\n",
    "        \n",
    "        for i in range(arrow_interval, len(tail_data_rs), arrow_interval):\n",
    "            if i < len(tail_data_rs) - 1:\n",
    "                # Current and next points\n",
    "                x1, y1 = tail_data_rs.iloc[i-1], tail_data_momentum.iloc[i-1]\n",
    "                x2, y2 = tail_data_rs.iloc[i], tail_data_momentum.iloc[i]\n",
    "                \n",
    "                # Calculate arrow direction\n",
    "                dx = x2 - x1\n",
    "                dy = y2 - y1\n",
    "                \n",
    "                # Normalize arrow length\n",
    "                arrow_length = 0.1\n",
    "                if dx != 0 or dy != 0:\n",
    "                    length = np.sqrt(dx**2 + dy**2)\n",
    "                    if length > 0:\n",
    "                        dx_norm = (dx / length) * arrow_length\n",
    "                        dy_norm = (dy / length) * arrow_length\n",
    "                        \n",
    "                        # Add arrow annotation\n",
    "                        fig.add_annotation(\n",
    "                            x=x2,\n",
    "                            y=y2,\n",
    "                            ax=x2 - dx_norm,\n",
    "                            ay=y2 - dy_norm,\n",
    "                            xref=\"x\",\n",
    "                            yref=\"y\",\n",
    "                            axref=\"x\",\n",
    "                            ayref=\"y\",\n",
    "                            showarrow=True,\n",
    "                            arrowhead=2,\n",
    "                            arrowsize=1,\n",
    "                            arrowwidth=2,\n",
    "                            arrowcolor=color,\n",
    "                            bgcolor=\"rgba(0,0,0,0)\",\n",
    "                            bordercolor=\"rgba(0,0,0,0)\"\n",
    "                        )\n",
    "    \n",
    "    # Scatter point for the latest date (current position)\n",
    "    fig.add_trace(\n",
    "        go.Scatter(\n",
    "            x=[rs_ratios_latest[sector]],\n",
    "            y=[rs_momentum_latest[sector]],\n",
    "            mode=\"markers+text\",\n",
    "            name=sector,\n",
    "            marker=dict(size=15, color=color, symbol=\"circle\", \n",
    "                       line=dict(width=2, color=\"white\")),\n",
    "            text=[sector],\n",
    "            textposition=\"top center\",\n",
    "            textfont=dict(size=12, color=\"black\")\n",
    "        )\n",
    "    )\n",
    "    \n",
    "    # Add a larger arrow at the very end to show most recent direction\n",
    "    if len(tail_data_rs) > 1:\n",
    "        # Last two points for final direction\n",
    "        x1, y1 = tail_data_rs.iloc[-2], tail_data_momentum.iloc[-2]\n",
    "        x2, y2 = tail_data_rs.iloc[-1], tail_data_momentum.iloc[-1]\n",
    "        \n",
    "        dx = x2 - x1\n",
    "        dy = y2 - y1\n",
    "        \n",
    "        if dx != 0 or dy != 0:\n",
    "            length = np.sqrt(dx**2 + dy**2)\n",
    "            if length > 0:\n",
    "                arrow_length = 0.15\n",
    "                dx_norm = (dx / length) * arrow_length\n",
    "                dy_norm = (dy / length) * arrow_length\n",
    "                \n",
    "                fig.add_annotation(\n",
    "                    x=x2,\n",
    "                    y=y2,\n",
    "                    ax=x2 - dx_norm,\n",
    "                    ay=y2 - dy_norm,\n",
    "                    xref=\"x\",\n",
    "                    yref=\"y\",\n",
    "                    axref=\"x\",\n",
    "                    ayref=\"y\",\n",
    "                    showarrow=True,\n",
    "                    arrowhead=3,\n",
    "                    arrowsize=2,\n",
    "                    arrowwidth=3,\n",
    "                    arrowcolor=color,\n",
    "                    bgcolor=\"rgba(0,0,0,0)\",\n",
    "                    bordercolor=\"rgba(0,0,0,0)\"\n",
    "                )\n",
    "\n",
    "# Add quadrant lines and background colors\n",
    "fig.add_shape(type=\"line\", x0=0, y0=-3, x1=0, y1=3, line=dict(color=\"black\", width=1))\n",
    "fig.add_shape(type=\"line\", x0=-3, y0=0, x1=3, y1=0, line=dict(color=\"black\", width=1))\n",
    "\n",
    "# Add colored quadrant backgrounds\n",
    "fig.add_shape(type=\"rect\", x0=0, y0=0, x1=3, y1=3, fillcolor=\"lightgreen\", opacity=0.3, layer=\"below\")\n",
    "fig.add_shape(type=\"rect\", x0=0, y0=0, x1=3, y1=-3, fillcolor=\"yellow\", opacity=0.3, layer=\"below\")\n",
    "fig.add_shape(type=\"rect\", x0=0, y0=0, x1=-3, y1=-3, fillcolor=\"lightcoral\", opacity=0.3, layer=\"below\")\n",
    "fig.add_shape(type=\"rect\", x0=0, y0=0, x1=-3, y1=3, fillcolor=\"lightblue\", opacity=0.3, layer=\"below\")\n",
    "\n",
    "# Add quadrant labels\n",
    "fig.add_annotation(x=1.5, y=1.5, text=\"Leading<br>(Strong & Improving)\", \n",
    "                  showarrow=False, font=dict(size=10, color=\"darkgreen\"))\n",
    "fig.add_annotation(x=1.5, y=-1.5, text=\"Weakening<br>(Strong & Deteriorating)\", \n",
    "                  showarrow=False, font=dict(size=10, color=\"orange\"))\n",
    "fig.add_annotation(x=-1.5, y=-1.5, text=\"Lagging<br>(Weak & Deteriorating)\", \n",
    "                  showarrow=False, font=dict(size=10, color=\"darkred\"))\n",
    "fig.add_annotation(x=-1.5, y=1.5, text=\"Improving<br>(Weak & Improving)\", \n",
    "                  showarrow=False, font=dict(size=10, color=\"blue\"))\n",
    "\n",
    "# Update layout\n",
    "fig.update_layout(\n",
    "    title=f\"Relative Rotation Graph vs. {benchmark} ({target_date.strftime('%Y-%m-%d')})\",\n",
    "    xaxis_title=\"Relative Strength Ratio (Z-score)\",\n",
    "    yaxis_title=\"Relative Strength Momentum (Z-score)\",\n",
    "    showlegend=True,\n",
    "    width=900,\n",
    "    height=700,\n",
    "    xaxis=dict(range=[-3, 3], zeroline=True),\n",
    "    yaxis=dict(range=[-3, 3], zeroline=True)\n",
    ")\n",
    "\n",
    "# Show plot\n",
    "fig.show()\n",
    "#curvature and toggle , application"
   ]
  },
  {
   "cell_type": "code",
   "execution_count": null,
   "id": "25780718",
   "metadata": {},
   "outputs": [
    {
     "data": {
      "text/html": [
       "\n",
       "        <iframe\n",
       "            width=\"100%\"\n",
       "            height=\"650\"\n",
       "            src=\"http://127.0.0.1:8050/\"\n",
       "            frameborder=\"0\"\n",
       "            allowfullscreen\n",
       "            \n",
       "        ></iframe>\n",
       "        "
      ],
      "text/plain": [
       "<IPython.lib.display.IFrame at 0x27b33fb9630>"
      ]
     },
     "metadata": {},
     "output_type": "display_data"
    },
    {
     "name": "stderr",
     "output_type": "stream",
     "text": [
      "[2025-06-06 21:11:08,845] ERROR in app: Exception on /_dash-update-component [POST]\n",
      "Traceback (most recent call last):\n",
      "  File \"c:\\Users\\Harsha.1Aditya\\AppData\\Local\\Programs\\Python\\Python313\\Lib\\site-packages\\flask\\app.py\", line 880, in full_dispatch_request\n",
      "    rv = self.dispatch_request()\n",
      "  File \"c:\\Users\\Harsha.1Aditya\\AppData\\Local\\Programs\\Python\\Python313\\Lib\\site-packages\\flask\\app.py\", line 865, in dispatch_request\n",
      "    return self.ensure_sync(self.view_functions[rule.endpoint])(**view_args)  # type: ignore[no-any-return]\n",
      "           ~~~~~~~~~~~~~~~~~~~~~~~~~~~~~~~~~~~~~~~~~~~~~~~~~~~~^^^^^^^^^^^^^\n",
      "  File \"c:\\Users\\Harsha.1Aditya\\AppData\\Local\\Programs\\Python\\Python313\\Lib\\site-packages\\dash\\dash.py\", line 1414, in dispatch\n",
      "    ctx.run(\n",
      "    ~~~~~~~^\n",
      "        functools.partial(\n",
      "        ^^^^^^^^^^^^^^^^^^\n",
      "    ...<7 lines>...\n",
      "        )\n",
      "        ^\n",
      "    )\n",
      "    ^\n",
      "  File \"c:\\Users\\Harsha.1Aditya\\AppData\\Local\\Programs\\Python\\Python313\\Lib\\site-packages\\dash\\_callback.py\", line 536, in add_context\n",
      "    raise err\n",
      "  File \"c:\\Users\\Harsha.1Aditya\\AppData\\Local\\Programs\\Python\\Python313\\Lib\\site-packages\\dash\\_callback.py\", line 525, in add_context\n",
      "    output_value = _invoke_callback(func, *func_args, **func_kwargs)  # type: ignore[reportArgumentType]\n",
      "  File \"c:\\Users\\Harsha.1Aditya\\AppData\\Local\\Programs\\Python\\Python313\\Lib\\site-packages\\dash\\_callback.py\", line 47, in _invoke_callback\n",
      "    return func(*args, **kwargs)  # %% callback invoked %%\n",
      "  File \"C:\\Users\\Harsha.1Aditya\\AppData\\Local\\Temp\\ipykernel_37564\\3991015264.py\", line 133, in control_animation\n",
      "    from dash.callback_context import triggered_id\n",
      "ModuleNotFoundError: No module named 'dash.callback_context'\n",
      "\n",
      "During handling of the above exception, another exception occurred:\n",
      "\n",
      "Traceback (most recent call last):\n",
      "  File \"c:\\Users\\Harsha.1Aditya\\AppData\\Local\\Programs\\Python\\Python313\\Lib\\site-packages\\flask\\app.py\", line 1473, in wsgi_app\n",
      "    response = self.full_dispatch_request()\n",
      "  File \"c:\\Users\\Harsha.1Aditya\\AppData\\Local\\Programs\\Python\\Python313\\Lib\\site-packages\\flask\\app.py\", line 882, in full_dispatch_request\n",
      "    rv = self.handle_user_exception(e)\n",
      "  File \"c:\\Users\\Harsha.1Aditya\\AppData\\Local\\Programs\\Python\\Python313\\Lib\\site-packages\\flask\\app.py\", line 772, in handle_user_exception\n",
      "    return self.ensure_sync(handler)(e)  # type: ignore[no-any-return]\n",
      "           ~~~~~~~~~~~~~~~~~~~~~~~~~^^^\n",
      "  File \"c:\\Users\\Harsha.1Aditya\\AppData\\Local\\Programs\\Python\\Python313\\Lib\\site-packages\\dash\\_jupyter.py\", line 462, in _wrap_errors\n",
      "    ipytb = FormattedTB(\n",
      "        tb_offset=skip,\n",
      "    ...<3 lines>...\n",
      "        ostream=ostream,\n",
      "    )\n",
      "TypeError: FormattedTB.__init__() got an unexpected keyword argument 'color_scheme'\n",
      "Error on request:\n",
      "Traceback (most recent call last):\n",
      "  File \"c:\\Users\\Harsha.1Aditya\\AppData\\Local\\Programs\\Python\\Python313\\Lib\\site-packages\\flask\\app.py\", line 880, in full_dispatch_request\n",
      "    rv = self.dispatch_request()\n",
      "  File \"c:\\Users\\Harsha.1Aditya\\AppData\\Local\\Programs\\Python\\Python313\\Lib\\site-packages\\flask\\app.py\", line 865, in dispatch_request\n",
      "    return self.ensure_sync(self.view_functions[rule.endpoint])(**view_args)  # type: ignore[no-any-return]\n",
      "           ~~~~~~~~~~~~~~~~~~~~~~~~~~~~~~~~~~~~~~~~~~~~~~~~~~~~^^^^^^^^^^^^^\n",
      "  File \"c:\\Users\\Harsha.1Aditya\\AppData\\Local\\Programs\\Python\\Python313\\Lib\\site-packages\\dash\\dash.py\", line 1414, in dispatch\n",
      "    ctx.run(\n",
      "    ^\n",
      "  File \"c:\\Users\\Harsha.1Aditya\\AppData\\Local\\Programs\\Python\\Python313\\Lib\\site-packages\\dash\\_callback.py\", line 536, in add_context\n",
      "    raise err\n",
      "  File \"c:\\Users\\Harsha.1Aditya\\AppData\\Local\\Programs\\Python\\Python313\\Lib\\site-packages\\dash\\_callback.py\", line 525, in add_context\n",
      "    output_value = _invoke_callback(func, *func_args, **func_kwargs)  # type: ignore[reportArgumentType]\n",
      "  File \"c:\\Users\\Harsha.1Aditya\\AppData\\Local\\Programs\\Python\\Python313\\Lib\\site-packages\\dash\\_callback.py\", line 47, in _invoke_callback\n",
      "    return func(*args, **kwargs)  # %% callback invoked %%\n",
      "  File \"C:\\Users\\Harsha.1Aditya\\AppData\\Local\\Temp\\ipykernel_37564\\3991015264.py\", line 133, in control_animation\n",
      "    from dash.callback_context import triggered_id\n",
      "ModuleNotFoundError: No module named 'dash.callback_context'\n",
      "\n",
      "During handling of the above exception, another exception occurred:\n",
      "\n",
      "Traceback (most recent call last):\n",
      "  File \"c:\\Users\\Harsha.1Aditya\\AppData\\Local\\Programs\\Python\\Python313\\Lib\\site-packages\\flask\\app.py\", line 1473, in wsgi_app\n",
      "    response = self.full_dispatch_request()\n",
      "  File \"c:\\Users\\Harsha.1Aditya\\AppData\\Local\\Programs\\Python\\Python313\\Lib\\site-packages\\flask\\app.py\", line 882, in full_dispatch_request\n",
      "    rv = self.handle_user_exception(e)\n",
      "  File \"c:\\Users\\Harsha.1Aditya\\AppData\\Local\\Programs\\Python\\Python313\\Lib\\site-packages\\flask\\app.py\", line 772, in handle_user_exception\n",
      "    return self.ensure_sync(handler)(e)  # type: ignore[no-any-return]\n",
      "           ~~~~~~~~~~~~~~~~~~~~~~~~~^^^\n",
      "  File \"c:\\Users\\Harsha.1Aditya\\AppData\\Local\\Programs\\Python\\Python313\\Lib\\site-packages\\dash\\_jupyter.py\", line 462, in _wrap_errors\n",
      "    ipytb = FormattedTB(\n",
      "    \n",
      "TypeError: FormattedTB.__init__() got an unexpected keyword argument 'color_scheme'\n",
      "\n",
      "During handling of the above exception, another exception occurred:\n",
      "\n",
      "Traceback (most recent call last):\n",
      "  File \"c:\\Users\\Harsha.1Aditya\\AppData\\Local\\Programs\\Python\\Python313\\Lib\\site-packages\\werkzeug\\serving.py\", line 370, in run_wsgi\n",
      "    execute(self.server.app)\n",
      "    ~~~~~~~^^^^^^^^^^^^^^^^^\n",
      "  File \"c:\\Users\\Harsha.1Aditya\\AppData\\Local\\Programs\\Python\\Python313\\Lib\\site-packages\\werkzeug\\serving.py\", line 331, in execute\n",
      "    application_iter = app(environ, start_response)\n",
      "  File \"c:\\Users\\Harsha.1Aditya\\AppData\\Local\\Programs\\Python\\Python313\\Lib\\site-packages\\flask\\app.py\", line 1498, in __call__\n",
      "    return self.wsgi_app(environ, start_response)\n",
      "           ~~~~~~~~~~~~~^^^^^^^^^^^^^^^^^^^^^^^^^\n",
      "  File \"c:\\Users\\Harsha.1Aditya\\AppData\\Local\\Programs\\Python\\Python313\\Lib\\site-packages\\flask\\app.py\", line 1476, in wsgi_app\n",
      "    response = self.handle_exception(e)\n",
      "  File \"c:\\Users\\Harsha.1Aditya\\AppData\\Local\\Programs\\Python\\Python313\\Lib\\site-packages\\flask\\app.py\", line 823, in handle_exception\n",
      "    server_error = self.ensure_sync(handler)(server_error)\n",
      "  File \"c:\\Users\\Harsha.1Aditya\\AppData\\Local\\Programs\\Python\\Python313\\Lib\\site-packages\\dash\\_jupyter.py\", line 453, in _wrap_errors\n",
      "    skip = _get_skip(error) if dev_tools_prune_errors else 0\n",
      "           ~~~~~~~~~^^^^^^^\n",
      "  File \"c:\\Users\\Harsha.1Aditya\\AppData\\Local\\Programs\\Python\\Python313\\Lib\\site-packages\\dash\\_jupyter.py\", line 47, in _get_skip\n",
      "    while tb.tb_next is not None:\n",
      "          ^^^^^^^^^^\n",
      "AttributeError: 'NoneType' object has no attribute 'tb_next'\n",
      "[2025-06-06 21:11:19,092] ERROR in app: Exception on /_dash-update-component [POST]\n",
      "Traceback (most recent call last):\n",
      "  File \"c:\\Users\\Harsha.1Aditya\\AppData\\Local\\Programs\\Python\\Python313\\Lib\\site-packages\\flask\\app.py\", line 880, in full_dispatch_request\n",
      "    rv = self.dispatch_request()\n",
      "  File \"c:\\Users\\Harsha.1Aditya\\AppData\\Local\\Programs\\Python\\Python313\\Lib\\site-packages\\flask\\app.py\", line 865, in dispatch_request\n",
      "    return self.ensure_sync(self.view_functions[rule.endpoint])(**view_args)  # type: ignore[no-any-return]\n",
      "           ~~~~~~~~~~~~~~~~~~~~~~~~~~~~~~~~~~~~~~~~~~~~~~~~~~~~^^^^^^^^^^^^^\n",
      "  File \"c:\\Users\\Harsha.1Aditya\\AppData\\Local\\Programs\\Python\\Python313\\Lib\\site-packages\\dash\\dash.py\", line 1414, in dispatch\n",
      "    ctx.run(\n",
      "    ~~~~~~~^\n",
      "        functools.partial(\n",
      "        ^^^^^^^^^^^^^^^^^^\n",
      "    ...<7 lines>...\n",
      "        )\n",
      "        ^\n",
      "    )\n",
      "    ^\n",
      "  File \"c:\\Users\\Harsha.1Aditya\\AppData\\Local\\Programs\\Python\\Python313\\Lib\\site-packages\\dash\\_callback.py\", line 536, in add_context\n",
      "    raise err\n",
      "  File \"c:\\Users\\Harsha.1Aditya\\AppData\\Local\\Programs\\Python\\Python313\\Lib\\site-packages\\dash\\_callback.py\", line 525, in add_context\n",
      "    output_value = _invoke_callback(func, *func_args, **func_kwargs)  # type: ignore[reportArgumentType]\n",
      "  File \"c:\\Users\\Harsha.1Aditya\\AppData\\Local\\Programs\\Python\\Python313\\Lib\\site-packages\\dash\\_callback.py\", line 47, in _invoke_callback\n",
      "    return func(*args, **kwargs)  # %% callback invoked %%\n",
      "  File \"C:\\Users\\Harsha.1Aditya\\AppData\\Local\\Temp\\ipykernel_37564\\3991015264.py\", line 133, in control_animation\n",
      "    from dash.callback_context import triggered_id\n",
      "ModuleNotFoundError: No module named 'dash.callback_context'\n",
      "\n",
      "During handling of the above exception, another exception occurred:\n",
      "\n",
      "Traceback (most recent call last):\n",
      "  File \"c:\\Users\\Harsha.1Aditya\\AppData\\Local\\Programs\\Python\\Python313\\Lib\\site-packages\\flask\\app.py\", line 1473, in wsgi_app\n",
      "    response = self.full_dispatch_request()\n",
      "  File \"c:\\Users\\Harsha.1Aditya\\AppData\\Local\\Programs\\Python\\Python313\\Lib\\site-packages\\flask\\app.py\", line 882, in full_dispatch_request\n",
      "    rv = self.handle_user_exception(e)\n",
      "  File \"c:\\Users\\Harsha.1Aditya\\AppData\\Local\\Programs\\Python\\Python313\\Lib\\site-packages\\flask\\app.py\", line 772, in handle_user_exception\n",
      "    return self.ensure_sync(handler)(e)  # type: ignore[no-any-return]\n",
      "           ~~~~~~~~~~~~~~~~~~~~~~~~~^^^\n",
      "  File \"c:\\Users\\Harsha.1Aditya\\AppData\\Local\\Programs\\Python\\Python313\\Lib\\site-packages\\dash\\_jupyter.py\", line 462, in _wrap_errors\n",
      "    ipytb = FormattedTB(\n",
      "        tb_offset=skip,\n",
      "    ...<3 lines>...\n",
      "        ostream=ostream,\n",
      "    )\n",
      "TypeError: FormattedTB.__init__() got an unexpected keyword argument 'color_scheme'\n",
      "Error on request:\n",
      "Traceback (most recent call last):\n",
      "  File \"c:\\Users\\Harsha.1Aditya\\AppData\\Local\\Programs\\Python\\Python313\\Lib\\site-packages\\flask\\app.py\", line 880, in full_dispatch_request\n",
      "    rv = self.dispatch_request()\n",
      "  File \"c:\\Users\\Harsha.1Aditya\\AppData\\Local\\Programs\\Python\\Python313\\Lib\\site-packages\\flask\\app.py\", line 865, in dispatch_request\n",
      "    return self.ensure_sync(self.view_functions[rule.endpoint])(**view_args)  # type: ignore[no-any-return]\n",
      "           ~~~~~~~~~~~~~~~~~~~~~~~~~~~~~~~~~~~~~~~~~~~~~~~~~~~~^^^^^^^^^^^^^\n",
      "  File \"c:\\Users\\Harsha.1Aditya\\AppData\\Local\\Programs\\Python\\Python313\\Lib\\site-packages\\dash\\dash.py\", line 1414, in dispatch\n",
      "    ctx.run(\n",
      "    ^\n",
      "  File \"c:\\Users\\Harsha.1Aditya\\AppData\\Local\\Programs\\Python\\Python313\\Lib\\site-packages\\dash\\_callback.py\", line 536, in add_context\n",
      "    raise err\n",
      "  File \"c:\\Users\\Harsha.1Aditya\\AppData\\Local\\Programs\\Python\\Python313\\Lib\\site-packages\\dash\\_callback.py\", line 525, in add_context\n",
      "    output_value = _invoke_callback(func, *func_args, **func_kwargs)  # type: ignore[reportArgumentType]\n",
      "  File \"c:\\Users\\Harsha.1Aditya\\AppData\\Local\\Programs\\Python\\Python313\\Lib\\site-packages\\dash\\_callback.py\", line 47, in _invoke_callback\n",
      "    return func(*args, **kwargs)  # %% callback invoked %%\n",
      "  File \"C:\\Users\\Harsha.1Aditya\\AppData\\Local\\Temp\\ipykernel_37564\\3991015264.py\", line 133, in control_animation\n",
      "    from dash.callback_context import triggered_id\n",
      "ModuleNotFoundError: No module named 'dash.callback_context'\n",
      "\n",
      "During handling of the above exception, another exception occurred:\n",
      "\n",
      "Traceback (most recent call last):\n",
      "  File \"c:\\Users\\Harsha.1Aditya\\AppData\\Local\\Programs\\Python\\Python313\\Lib\\site-packages\\flask\\app.py\", line 1473, in wsgi_app\n",
      "    response = self.full_dispatch_request()\n",
      "  File \"c:\\Users\\Harsha.1Aditya\\AppData\\Local\\Programs\\Python\\Python313\\Lib\\site-packages\\flask\\app.py\", line 882, in full_dispatch_request\n",
      "    rv = self.handle_user_exception(e)\n",
      "  File \"c:\\Users\\Harsha.1Aditya\\AppData\\Local\\Programs\\Python\\Python313\\Lib\\site-packages\\flask\\app.py\", line 772, in handle_user_exception\n",
      "    return self.ensure_sync(handler)(e)  # type: ignore[no-any-return]\n",
      "           ~~~~~~~~~~~~~~~~~~~~~~~~~^^^\n",
      "  File \"c:\\Users\\Harsha.1Aditya\\AppData\\Local\\Programs\\Python\\Python313\\Lib\\site-packages\\dash\\_jupyter.py\", line 462, in _wrap_errors\n",
      "    ipytb = FormattedTB(\n",
      "    \n",
      "TypeError: FormattedTB.__init__() got an unexpected keyword argument 'color_scheme'\n",
      "\n",
      "During handling of the above exception, another exception occurred:\n",
      "\n",
      "Traceback (most recent call last):\n",
      "  File \"c:\\Users\\Harsha.1Aditya\\AppData\\Local\\Programs\\Python\\Python313\\Lib\\site-packages\\werkzeug\\serving.py\", line 370, in run_wsgi\n",
      "    execute(self.server.app)\n",
      "    ~~~~~~~^^^^^^^^^^^^^^^^^\n",
      "  File \"c:\\Users\\Harsha.1Aditya\\AppData\\Local\\Programs\\Python\\Python313\\Lib\\site-packages\\werkzeug\\serving.py\", line 331, in execute\n",
      "    application_iter = app(environ, start_response)\n",
      "  File \"c:\\Users\\Harsha.1Aditya\\AppData\\Local\\Programs\\Python\\Python313\\Lib\\site-packages\\flask\\app.py\", line 1498, in __call__\n",
      "    return self.wsgi_app(environ, start_response)\n",
      "           ~~~~~~~~~~~~~^^^^^^^^^^^^^^^^^^^^^^^^^\n",
      "  File \"c:\\Users\\Harsha.1Aditya\\AppData\\Local\\Programs\\Python\\Python313\\Lib\\site-packages\\flask\\app.py\", line 1476, in wsgi_app\n",
      "    response = self.handle_exception(e)\n",
      "  File \"c:\\Users\\Harsha.1Aditya\\AppData\\Local\\Programs\\Python\\Python313\\Lib\\site-packages\\flask\\app.py\", line 823, in handle_exception\n",
      "    server_error = self.ensure_sync(handler)(server_error)\n",
      "  File \"c:\\Users\\Harsha.1Aditya\\AppData\\Local\\Programs\\Python\\Python313\\Lib\\site-packages\\dash\\_jupyter.py\", line 453, in _wrap_errors\n",
      "    skip = _get_skip(error) if dev_tools_prune_errors else 0\n",
      "           ~~~~~~~~~^^^^^^^\n",
      "  File \"c:\\Users\\Harsha.1Aditya\\AppData\\Local\\Programs\\Python\\Python313\\Lib\\site-packages\\dash\\_jupyter.py\", line 47, in _get_skip\n",
      "    while tb.tb_next is not None:\n",
      "          ^^^^^^^^^^\n",
      "AttributeError: 'NoneType' object has no attribute 'tb_next'\n",
      "[2025-06-06 21:11:22,959] ERROR in app: Exception on /_dash-update-component [POST]\n",
      "Traceback (most recent call last):\n",
      "  File \"c:\\Users\\Harsha.1Aditya\\AppData\\Local\\Programs\\Python\\Python313\\Lib\\site-packages\\flask\\app.py\", line 880, in full_dispatch_request\n",
      "    rv = self.dispatch_request()\n",
      "  File \"c:\\Users\\Harsha.1Aditya\\AppData\\Local\\Programs\\Python\\Python313\\Lib\\site-packages\\flask\\app.py\", line 865, in dispatch_request\n",
      "    return self.ensure_sync(self.view_functions[rule.endpoint])(**view_args)  # type: ignore[no-any-return]\n",
      "           ~~~~~~~~~~~~~~~~~~~~~~~~~~~~~~~~~~~~~~~~~~~~~~~~~~~~^^^^^^^^^^^^^\n",
      "  File \"c:\\Users\\Harsha.1Aditya\\AppData\\Local\\Programs\\Python\\Python313\\Lib\\site-packages\\dash\\dash.py\", line 1414, in dispatch\n",
      "    ctx.run(\n",
      "    ~~~~~~~^\n",
      "        functools.partial(\n",
      "        ^^^^^^^^^^^^^^^^^^\n",
      "    ...<7 lines>...\n",
      "        )\n",
      "        ^\n",
      "    )\n",
      "    ^\n",
      "  File \"c:\\Users\\Harsha.1Aditya\\AppData\\Local\\Programs\\Python\\Python313\\Lib\\site-packages\\dash\\_callback.py\", line 536, in add_context\n",
      "    raise err\n",
      "  File \"c:\\Users\\Harsha.1Aditya\\AppData\\Local\\Programs\\Python\\Python313\\Lib\\site-packages\\dash\\_callback.py\", line 525, in add_context\n",
      "    output_value = _invoke_callback(func, *func_args, **func_kwargs)  # type: ignore[reportArgumentType]\n",
      "  File \"c:\\Users\\Harsha.1Aditya\\AppData\\Local\\Programs\\Python\\Python313\\Lib\\site-packages\\dash\\_callback.py\", line 47, in _invoke_callback\n",
      "    return func(*args, **kwargs)  # %% callback invoked %%\n",
      "  File \"C:\\Users\\Harsha.1Aditya\\AppData\\Local\\Temp\\ipykernel_37564\\3991015264.py\", line 133, in control_animation\n",
      "    from dash.callback_context import triggered_id\n",
      "ModuleNotFoundError: No module named 'dash.callback_context'\n",
      "\n",
      "During handling of the above exception, another exception occurred:\n",
      "\n",
      "Traceback (most recent call last):\n",
      "  File \"c:\\Users\\Harsha.1Aditya\\AppData\\Local\\Programs\\Python\\Python313\\Lib\\site-packages\\flask\\app.py\", line 1473, in wsgi_app\n",
      "    response = self.full_dispatch_request()\n",
      "  File \"c:\\Users\\Harsha.1Aditya\\AppData\\Local\\Programs\\Python\\Python313\\Lib\\site-packages\\flask\\app.py\", line 882, in full_dispatch_request\n",
      "    rv = self.handle_user_exception(e)\n",
      "  File \"c:\\Users\\Harsha.1Aditya\\AppData\\Local\\Programs\\Python\\Python313\\Lib\\site-packages\\flask\\app.py\", line 772, in handle_user_exception\n",
      "    return self.ensure_sync(handler)(e)  # type: ignore[no-any-return]\n",
      "           ~~~~~~~~~~~~~~~~~~~~~~~~~^^^\n",
      "  File \"c:\\Users\\Harsha.1Aditya\\AppData\\Local\\Programs\\Python\\Python313\\Lib\\site-packages\\dash\\_jupyter.py\", line 462, in _wrap_errors\n",
      "    ipytb = FormattedTB(\n",
      "        tb_offset=skip,\n",
      "    ...<3 lines>...\n",
      "        ostream=ostream,\n",
      "    )\n",
      "TypeError: FormattedTB.__init__() got an unexpected keyword argument 'color_scheme'\n",
      "Error on request:\n",
      "Traceback (most recent call last):\n",
      "  File \"c:\\Users\\Harsha.1Aditya\\AppData\\Local\\Programs\\Python\\Python313\\Lib\\site-packages\\flask\\app.py\", line 880, in full_dispatch_request\n",
      "    rv = self.dispatch_request()\n",
      "  File \"c:\\Users\\Harsha.1Aditya\\AppData\\Local\\Programs\\Python\\Python313\\Lib\\site-packages\\flask\\app.py\", line 865, in dispatch_request\n",
      "    return self.ensure_sync(self.view_functions[rule.endpoint])(**view_args)  # type: ignore[no-any-return]\n",
      "           ~~~~~~~~~~~~~~~~~~~~~~~~~~~~~~~~~~~~~~~~~~~~~~~~~~~~^^^^^^^^^^^^^\n",
      "  File \"c:\\Users\\Harsha.1Aditya\\AppData\\Local\\Programs\\Python\\Python313\\Lib\\site-packages\\dash\\dash.py\", line 1414, in dispatch\n",
      "    ctx.run(\n",
      "    ^\n",
      "  File \"c:\\Users\\Harsha.1Aditya\\AppData\\Local\\Programs\\Python\\Python313\\Lib\\site-packages\\dash\\_callback.py\", line 536, in add_context\n",
      "    raise err\n",
      "  File \"c:\\Users\\Harsha.1Aditya\\AppData\\Local\\Programs\\Python\\Python313\\Lib\\site-packages\\dash\\_callback.py\", line 525, in add_context\n",
      "    output_value = _invoke_callback(func, *func_args, **func_kwargs)  # type: ignore[reportArgumentType]\n",
      "  File \"c:\\Users\\Harsha.1Aditya\\AppData\\Local\\Programs\\Python\\Python313\\Lib\\site-packages\\dash\\_callback.py\", line 47, in _invoke_callback\n",
      "    return func(*args, **kwargs)  # %% callback invoked %%\n",
      "  File \"C:\\Users\\Harsha.1Aditya\\AppData\\Local\\Temp\\ipykernel_37564\\3991015264.py\", line 133, in control_animation\n",
      "    from dash.callback_context import triggered_id\n",
      "ModuleNotFoundError: No module named 'dash.callback_context'\n",
      "\n",
      "During handling of the above exception, another exception occurred:\n",
      "\n",
      "Traceback (most recent call last):\n",
      "  File \"c:\\Users\\Harsha.1Aditya\\AppData\\Local\\Programs\\Python\\Python313\\Lib\\site-packages\\flask\\app.py\", line 1473, in wsgi_app\n",
      "    response = self.full_dispatch_request()\n",
      "  File \"c:\\Users\\Harsha.1Aditya\\AppData\\Local\\Programs\\Python\\Python313\\Lib\\site-packages\\flask\\app.py\", line 882, in full_dispatch_request\n",
      "    rv = self.handle_user_exception(e)\n",
      "  File \"c:\\Users\\Harsha.1Aditya\\AppData\\Local\\Programs\\Python\\Python313\\Lib\\site-packages\\flask\\app.py\", line 772, in handle_user_exception\n",
      "    return self.ensure_sync(handler)(e)  # type: ignore[no-any-return]\n",
      "           ~~~~~~~~~~~~~~~~~~~~~~~~~^^^\n",
      "  File \"c:\\Users\\Harsha.1Aditya\\AppData\\Local\\Programs\\Python\\Python313\\Lib\\site-packages\\dash\\_jupyter.py\", line 462, in _wrap_errors\n",
      "    ipytb = FormattedTB(\n",
      "    \n",
      "TypeError: FormattedTB.__init__() got an unexpected keyword argument 'color_scheme'\n",
      "\n",
      "During handling of the above exception, another exception occurred:\n",
      "\n",
      "Traceback (most recent call last):\n",
      "  File \"c:\\Users\\Harsha.1Aditya\\AppData\\Local\\Programs\\Python\\Python313\\Lib\\site-packages\\werkzeug\\serving.py\", line 370, in run_wsgi\n",
      "    execute(self.server.app)\n",
      "    ~~~~~~~^^^^^^^^^^^^^^^^^\n",
      "  File \"c:\\Users\\Harsha.1Aditya\\AppData\\Local\\Programs\\Python\\Python313\\Lib\\site-packages\\werkzeug\\serving.py\", line 331, in execute\n",
      "    application_iter = app(environ, start_response)\n",
      "  File \"c:\\Users\\Harsha.1Aditya\\AppData\\Local\\Programs\\Python\\Python313\\Lib\\site-packages\\flask\\app.py\", line 1498, in __call__\n",
      "    return self.wsgi_app(environ, start_response)\n",
      "           ~~~~~~~~~~~~~^^^^^^^^^^^^^^^^^^^^^^^^^\n",
      "  File \"c:\\Users\\Harsha.1Aditya\\AppData\\Local\\Programs\\Python\\Python313\\Lib\\site-packages\\flask\\app.py\", line 1476, in wsgi_app\n",
      "    response = self.handle_exception(e)\n",
      "  File \"c:\\Users\\Harsha.1Aditya\\AppData\\Local\\Programs\\Python\\Python313\\Lib\\site-packages\\flask\\app.py\", line 823, in handle_exception\n",
      "    server_error = self.ensure_sync(handler)(server_error)\n",
      "  File \"c:\\Users\\Harsha.1Aditya\\AppData\\Local\\Programs\\Python\\Python313\\Lib\\site-packages\\dash\\_jupyter.py\", line 453, in _wrap_errors\n",
      "    skip = _get_skip(error) if dev_tools_prune_errors else 0\n",
      "           ~~~~~~~~~^^^^^^^\n",
      "  File \"c:\\Users\\Harsha.1Aditya\\AppData\\Local\\Programs\\Python\\Python313\\Lib\\site-packages\\dash\\_jupyter.py\", line 47, in _get_skip\n",
      "    while tb.tb_next is not None:\n",
      "          ^^^^^^^^^^\n",
      "AttributeError: 'NoneType' object has no attribute 'tb_next'\n"
     ]
    }
   ],
   "source": [
    "import pandas as pd\n",
    "import numpy as np\n",
    "import plotly.graph_objects as go\n",
    "from dash import Dash, dcc, html, Input, Output\n",
    "import plotly.express as px\n",
    "\n",
    "# Initialize Dash app with external Plotly.js script\n",
    "app = Dash(\n",
    "    __name__,\n",
    "    external_scripts=[\n",
    "        \"https://cdn.plot.ly/plotly-2.35.0.min.js\"  # Explicitly load Plotly.js from CDN\n",
    "    ]\n",
    ")\n",
    "\n",
    "# Load the Excel data\n",
    "df = pd.read_excel(\"rrg_sectoral.xlsx\", parse_dates=[\"DATES\"], index_col=\"DATES\")\n",
    "\n",
    "# Define sectors and benchmark options\n",
    "sectors = [\"Auto\", \"Bank\", \"Chemicals\", \"Consumer Durables\", \"FMCG\", \"Healthcare\", \n",
    "           \"Pharma\", \"IT\", \"Metal\", \"NSELV30 Index\", \"N200MOMP Index\", \n",
    "           \"NSEQ30TR Index\", \"NSENV20 Index\"]\n",
    "default_benchmark = \"NIFTY Index\"\n",
    "\n",
    "# App layout\n",
    "app.layout = html.Div([\n",
    "    html.H1(\"RRG Sector Analysis\", className=\"text-2xl font-bold mb-4\"),\n",
    "    html.Div([\n",
    "        html.Label(\"Select Sectors\", className=\"block text-sm font-medium text-gray-700\"),\n",
    "        dcc.Dropdown(\n",
    "            id=\"sector-select\",\n",
    "            options=[{\"label\": sector, \"value\": sector} for sector in sectors],\n",
    "            value=[\"FMCG\"],\n",
    "            multi=True,\n",
    "            className=\"mb-4\"\n",
    "        ),\n",
    "    ]),\n",
    "    html.Div([\n",
    "        html.Label(\"Select Benchmark\", className=\"block text-sm font-medium text-gray-700\"),\n",
    "        dcc.Dropdown(\n",
    "            id=\"benchmark-select\",\n",
    "            options=[{\"label\": bm, \"value\": bm} for bm in [default_benchmark]],\n",
    "            value=default_benchmark,\n",
    "            className=\"mb-4\"\n",
    "        ),\n",
    "    ]),\n",
    "    html.Div([\n",
    "        html.Label(id=\"rolling-window-label\", className=\"block text-sm font-medium text-gray-700\"),\n",
    "        dcc.Slider(\n",
    "            id=\"rolling-window\",\n",
    "            min=10,\n",
    "            max=100,\n",
    "            step=1,\n",
    "            value=64,\n",
    "            marks={i: str(i) for i in range(10, 101, 10)},\n",
    "            className=\"mb-4\"\n",
    "        ),\n",
    "    ]),\n",
    "    html.Div([\n",
    "        html.Label(id=\"slice-window-label\", className=\"block text-sm font-medium text-gray-700\"),\n",
    "        dcc.Slider(\n",
    "            id=\"slice-window\",\n",
    "            min=1,\n",
    "            max=20,\n",
    "            step=1,\n",
    "            value=5,\n",
    "            marks={i: str(i) for i in range(1, 21, 2)},\n",
    "            className=\"mb-4\"\n",
    "        ),\n",
    "    ]),\n",
    "    html.Div([\n",
    "        html.Label(id=\"tail-length-label\", className=\"block text-sm font-medium text-gray-700\"),\n",
    "        dcc.Slider(\n",
    "            id=\"tail-length\",\n",
    "            min=5,\n",
    "            max=20,\n",
    "            step=1,\n",
    "            value=10,\n",
    "            marks={i: str(i) for i in range(5, 21, 2)},\n",
    "            className=\"mb-4\"\n",
    "        ),\n",
    "    ]),\n",
    "    # OPTION 1: Add animation controls\n",
    "    html.Div([\n",
    "        html.Button(\"Play/Pause Animation\", id=\"play-pause-btn\", className=\"mr-2 px-4 py-2 bg-blue-500 text-white rounded\"),\n",
    "        html.Button(\"Show Latest\", id=\"show-latest-btn\", className=\"px-4 py-2 bg-green-500 text-white rounded\"),\n",
    "    ], className=\"mb-4\"),\n",
    "    dcc.Loading(\n",
    "        id=\"loading\",\n",
    "        type=\"circle\",\n",
    "        children=[\n",
    "            dcc.Graph(id=\"rrg-plot\")\n",
    "        ]\n",
    "    ),\n",
    "    # OPTION 1: Make interval conditional\n",
    "    dcc.Interval(id=\"interval-component\", interval=2000, n_intervals=0, disabled=True),  # Start disabled, slower interval\n",
    "    # OPTION 2: Add a store to track animation state\n",
    "    dcc.Store(id=\"animation-state\", data={\"playing\": False, \"show_latest\": True})\n",
    "], className=\"container mx-auto p-4\")\n",
    "\n",
    "# Callback to update slider labels\n",
    "@app.callback(\n",
    "    [\n",
    "        Output(\"rolling-window-label\", \"children\"),\n",
    "        Output(\"slice-window-label\", \"children\"),\n",
    "        Output(\"tail-length-label\", \"children\")\n",
    "    ],\n",
    "    [\n",
    "        Input(\"rolling-window\", \"value\"),\n",
    "        Input(\"slice-window\", \"value\"),\n",
    "        Input(\"tail-length\", \"value\")\n",
    "    ]\n",
    ")\n",
    "def update_slider_labels(rolling_window, slice_window, tail_length):\n",
    "    return (\n",
    "        f\"Rolling Window: {rolling_window}\",\n",
    "        f\"Slice Window: {slice_window}\",\n",
    "        f\"Tail Length: {tail_length}\"\n",
    "    )\n",
    "\n",
    "# Callback to handle animation controls\n",
    "@app.callback(\n",
    "    [\n",
    "        Output(\"animation-state\", \"data\"),\n",
    "        Output(\"interval-component\", \"disabled\")\n",
    "    ],\n",
    "    [\n",
    "        Input(\"play-pause-btn\", \"n_clicks\"),\n",
    "        Input(\"show-latest-btn\", \"n_clicks\")\n",
    "    ],\n",
    "    prevent_initial_call=True\n",
    ")\n",
    "def control_animation(play_pause_clicks, show_latest_clicks):\n",
    "    from dash.callback_context import triggered_id\n",
    "    \n",
    "    if triggered_id == \"play-pause-btn\":\n",
    "        # Toggle animation\n",
    "        return {\"playing\": True, \"show_latest\": False}, False\n",
    "    elif triggered_id == \"show-latest-btn\":\n",
    "        # Show latest data only\n",
    "        return {\"playing\": False, \"show_latest\": True}, True\n",
    "    \n",
    "    return {\"playing\": False, \"show_latest\": True}, True\n",
    "\n",
    "# Callback to update the RRG plot\n",
    "@app.callback(\n",
    "    Output(\"rrg-plot\", \"figure\"),\n",
    "    [\n",
    "        Input(\"sector-select\", \"value\"),\n",
    "        Input(\"benchmark-select\", \"value\"),\n",
    "        Input(\"rolling-window\", \"value\"),\n",
    "        Input(\"slice-window\", \"value\"),\n",
    "        Input(\"tail-length\", \"value\"),\n",
    "        Input(\"interval-component\", \"n_intervals\"),\n",
    "        Input(\"animation-state\", \"data\")\n",
    "    ]\n",
    ")\n",
    "def update_rrg_plot(selected_sectors, benchmark, rolling_window, slice_window, tail_length, n_intervals, animation_state):\n",
    "    if not selected_sectors or benchmark not in df.columns:\n",
    "        return go.Figure()  # Return empty figure if inputs are invalid\n",
    "\n",
    "    # Calculate Relative Strength Ratio (price of sector / price of benchmark)\n",
    "    rs_ratios = df[selected_sectors].div(df[benchmark], axis=0)\n",
    "    short_period = 5\n",
    "    rs_momentum = (rs_ratios / rs_ratios.shift(short_period) - 1) * 100\n",
    "\n",
    "    # Normalize RS Ratios\n",
    "    rs_ratios_normalized = rs_ratios.rolling(window=rolling_window).apply(\n",
    "        lambda x: (x.iloc[-1] - x.mean()) / x.std() if len(x.dropna()) > 1 else np.nan\n",
    "    )\n",
    "    rs_ratios_normalized = rs_ratios_normalized.iloc[::slice_window]\n",
    "\n",
    "    # Normalize RS Momentum\n",
    "    rs_momentum_normalized = rs_momentum.rolling(window=rolling_window).apply(\n",
    "        lambda x: (x.iloc[-1] - x.mean()) / x.std() if len(x.dropna()) > 1 else np.nan\n",
    "    )\n",
    "    rs_momentum_normalized = rs_momentum_normalized.iloc[::slice_window]\n",
    "\n",
    "    # Filter out rows with all NaN values\n",
    "    valid_data = rs_ratios_normalized.dropna(how='all')\n",
    "    valid_momentum = rs_momentum_normalized.dropna(how='all')\n",
    "    \n",
    "    if len(valid_data) == 0:\n",
    "        return go.Figure().add_annotation(\n",
    "            text=\"No valid data available\",\n",
    "            xref=\"paper\", yref=\"paper\",\n",
    "            x=0.5, y=0.5, showarrow=False\n",
    "        )\n",
    "\n",
    "    # Determine which date to show\n",
    "    if animation_state.get(\"show_latest\", True):\n",
    "        # Show latest available data\n",
    "        target_date = valid_data.index[-1]\n",
    "    else:\n",
    "        # Animation mode: cycle through valid dates only\n",
    "        valid_dates = valid_data.index\n",
    "        current_frame = n_intervals % len(valid_dates)\n",
    "        target_date = valid_dates[current_frame]\n",
    "\n",
    "    # Get data for the target date\n",
    "    rs_ratios_latest = rs_ratios_normalized.loc[target_date]\n",
    "    rs_momentum_latest = rs_momentum_normalized.loc[target_date]\n",
    "\n",
    "    # Filter out sectors with NaN values for this date\n",
    "    valid_sectors = [s for s in selected_sectors if not pd.isna(rs_ratios_latest[s]) and not pd.isna(rs_momentum_latest[s])]\n",
    "    \n",
    "    if not valid_sectors:\n",
    "        return go.Figure().add_annotation(\n",
    "            text=f\"No valid data for {target_date.strftime('%Y-%m-%d')}\",\n",
    "            xref=\"paper\", yref=\"paper\",\n",
    "            x=0.5, y=0.5, showarrow=False\n",
    "        )\n",
    "\n",
    "    # Create the RRG plot\n",
    "    fig = go.Figure()\n",
    "    colors = px.colors.qualitative.Plotly[:len(valid_sectors)]\n",
    "\n",
    "    # Plot scatter points and tails for each valid sector\n",
    "    for sector, color in zip(valid_sectors, colors):\n",
    "        # Tail: Plot the last tail_length points (only valid ones)\n",
    "        sector_data = rs_ratios_normalized[sector].dropna()\n",
    "        sector_momentum = rs_momentum_normalized[sector].dropna()\n",
    "        \n",
    "        # Align the data\n",
    "        common_dates = sector_data.index.intersection(sector_momentum.index)\n",
    "        if len(common_dates) < 2:\n",
    "            continue\n",
    "            \n",
    "        tail_data_rs = sector_data.loc[common_dates].iloc[-tail_length:]\n",
    "        tail_data_momentum = sector_momentum.loc[common_dates].iloc[-tail_length:]\n",
    "\n",
    "        if len(tail_data_rs) > 1:\n",
    "            # Plot the tail line with spline interpolation\n",
    "            fig.add_trace(\n",
    "                go.Scatter(\n",
    "                    x=tail_data_rs,\n",
    "                    y=tail_data_momentum,\n",
    "                    mode=\"lines\",\n",
    "                    line=dict(color=color, width=3, shape=\"spline\"),\n",
    "                    showlegend=False,\n",
    "                    name=f\"{sector}_tail\"\n",
    "                )\n",
    "            )\n",
    "\n",
    "            # Add arrows along the path (simplified)\n",
    "            if len(tail_data_rs) > 3:\n",
    "                x1, y1 = tail_data_rs.iloc[-2], tail_data_momentum.iloc[-2]\n",
    "                x2, y2 = tail_data_rs.iloc[-1], tail_data_momentum.iloc[-1]\n",
    "                dx = x2 - x1\n",
    "                dy = y2 - y1\n",
    "                if abs(dx) > 0.01 or abs(dy) > 0.01:  # Only add arrow if there's meaningful movement\n",
    "                    length = np.sqrt(dx**2 + dy**2)\n",
    "                    if length > 0:\n",
    "                        arrow_length = min(0.15, length * 0.3)\n",
    "                        dx_norm = (dx / length) * arrow_length\n",
    "                        dy_norm = (dy / length) * arrow_length\n",
    "                        fig.add_annotation(\n",
    "                            x=x2,\n",
    "                            y=y2,\n",
    "                            ax=x2 - dx_norm,\n",
    "                            ay=y2 - dy_norm,\n",
    "                            xref=\"x\",\n",
    "                            yref=\"y\",\n",
    "                            axref=\"x\",\n",
    "                            ayref=\"y\",\n",
    "                            showarrow=True,\n",
    "                            arrowhead=3,\n",
    "                            arrowsize=2,\n",
    "                            arrowwidth=3,\n",
    "                            arrowcolor=color\n",
    "                        )\n",
    "\n",
    "        # Scatter point for the current frame\n",
    "        fig.add_trace(\n",
    "            go.Scatter(\n",
    "                x=[rs_ratios_latest[sector]],\n",
    "                y=[rs_momentum_latest[sector]],\n",
    "                mode=\"markers+text\",\n",
    "                name=sector,\n",
    "                marker=dict(size=15, color=color, symbol=\"circle\", \n",
    "                          line=dict(width=2, color=\"white\")),\n",
    "                text=[sector],\n",
    "                textposition=\"top center\",\n",
    "                textfont=dict(size=12, color=\"black\")\n",
    "            )\n",
    "        )\n",
    "\n",
    "    # Add quadrant lines and backgrounds\n",
    "    fig.add_shape(type=\"line\", x0=0, y0=-3, x1=0, y1=3, line=dict(color=\"black\", width=1))\n",
    "    fig.add_shape(type=\"line\", x0=-3, y0=0, x1=3, y1=0, line=dict(color=\"black\", width=1))\n",
    "    fig.add_shape(type=\"rect\", x0=0, y0=0, x1=3, y1=3, fillcolor=\"lightgreen\", opacity=0.3, layer=\"below\")\n",
    "    fig.add_shape(type=\"rect\", x0=0, y0=0, x1=3, y1=-3, fillcolor=\"yellow\", opacity=0.3, layer=\"below\")\n",
    "    fig.add_shape(type=\"rect\", x0=0, y0=0, x1=-3, y1=-3, fillcolor=\"lightcoral\", opacity=0.3, layer=\"below\")\n",
    "    fig.add_shape(type=\"rect\", x0=0, y0=0, x1=-3, y1=3, fillcolor=\"lightblue\", opacity=0.3, layer=\"below\")\n",
    "\n",
    "    # Add quadrant labels\n",
    "    fig.add_annotation(x=1.5, y=1.5, text=\"Leading<br>(Strong & Improving)\", \n",
    "                      showarrow=False, font=dict(size=10, color=\"darkgreen\"))\n",
    "    fig.add_annotation(x=1.5, y=-1.5, text=\"Weakening<br>(Strong & Deteriorating)\", \n",
    "                      showarrow=False, font=dict(size=10, color=\"orange\"))\n",
    "    fig.add_annotation(x=-1.5, y=-1.5, text=\"Lagging<br>(Weak & Deteriorating)\", \n",
    "                      showarrow=False, font=dict(size=10, color=\"darkred\"))\n",
    "    fig.add_annotation(x=-1.5, y=1.5, text=\"Improving<br>(Weak & Improving)\", \n",
    "                      showarrow=False, font=dict(size=10, color=\"blue\"))\n",
    "\n",
    "    # Update layout\n",
    "    animation_status = \"Playing\" if animation_state.get(\"playing\", False) else \"Static\"\n",
    "    fig.update_layout(\n",
    "        title=f\"Relative Rotation Graph vs. {benchmark} ({target_date.strftime('%Y-%m-%d')}) - {animation_status}\",\n",
    "        xaxis_title=\"Relative Strength Ratio (Z-score)\",\n",
    "        yaxis_title=\"Relative Strength Momentum (Z-score)\",\n",
    "        showlegend=True,\n",
    "        width=900,\n",
    "        height=700,\n",
    "        xaxis=dict(range=[-3, 3], zeroline=True),\n",
    "        yaxis=dict(range=[-3, 3], zeroline=True),\n",
    "        margin=dict(t=100)\n",
    "    )\n",
    "\n",
    "    return fig\n",
    "\n",
    "# Run the app\n",
    "if __name__ == \"__main__\":\n",
    "    app.run(debug=True)"
   ]
  },
  {
   "cell_type": "code",
   "execution_count": 176,
   "id": "f8c970f0",
   "metadata": {},
   "outputs": [
    {
     "name": "stdout",
     "output_type": "stream",
     "text": [
      "Collecting dash_bootstrap_components\n",
      "  Downloading dash_bootstrap_components-2.0.3-py3-none-any.whl.metadata (18 kB)\n",
      "Requirement already satisfied: dash>=3.0.4 in c:\\users\\harsha.1aditya\\appdata\\local\\programs\\python\\python313\\lib\\site-packages (from dash_bootstrap_components) (3.0.4)\n",
      "Requirement already satisfied: Flask<3.1,>=1.0.4 in c:\\users\\harsha.1aditya\\appdata\\local\\programs\\python\\python313\\lib\\site-packages (from dash>=3.0.4->dash_bootstrap_components) (3.0.3)\n",
      "Requirement already satisfied: Werkzeug<3.1 in c:\\users\\harsha.1aditya\\appdata\\local\\programs\\python\\python313\\lib\\site-packages (from dash>=3.0.4->dash_bootstrap_components) (3.0.6)\n",
      "Requirement already satisfied: plotly>=5.0.0 in c:\\users\\harsha.1aditya\\appdata\\local\\programs\\python\\python313\\lib\\site-packages (from dash>=3.0.4->dash_bootstrap_components) (6.1.2)\n",
      "Requirement already satisfied: importlib-metadata in c:\\users\\harsha.1aditya\\appdata\\local\\programs\\python\\python313\\lib\\site-packages (from dash>=3.0.4->dash_bootstrap_components) (8.7.0)\n",
      "Requirement already satisfied: typing-extensions>=4.1.1 in c:\\users\\harsha.1aditya\\appdata\\local\\programs\\python\\python313\\lib\\site-packages (from dash>=3.0.4->dash_bootstrap_components) (4.14.0)\n",
      "Requirement already satisfied: requests in c:\\users\\harsha.1aditya\\appdata\\local\\programs\\python\\python313\\lib\\site-packages (from dash>=3.0.4->dash_bootstrap_components) (2.32.3)\n",
      "Requirement already satisfied: retrying in c:\\users\\harsha.1aditya\\appdata\\local\\programs\\python\\python313\\lib\\site-packages (from dash>=3.0.4->dash_bootstrap_components) (1.3.4)\n",
      "Requirement already satisfied: nest-asyncio in c:\\users\\harsha.1aditya\\appdata\\roaming\\python\\python313\\site-packages (from dash>=3.0.4->dash_bootstrap_components) (1.6.0)\n",
      "Requirement already satisfied: setuptools in c:\\users\\harsha.1aditya\\appdata\\local\\programs\\python\\python313\\lib\\site-packages (from dash>=3.0.4->dash_bootstrap_components) (80.9.0)\n",
      "Requirement already satisfied: Jinja2>=3.1.2 in c:\\users\\harsha.1aditya\\appdata\\local\\programs\\python\\python313\\lib\\site-packages (from Flask<3.1,>=1.0.4->dash>=3.0.4->dash_bootstrap_components) (3.1.6)\n",
      "Requirement already satisfied: itsdangerous>=2.1.2 in c:\\users\\harsha.1aditya\\appdata\\local\\programs\\python\\python313\\lib\\site-packages (from Flask<3.1,>=1.0.4->dash>=3.0.4->dash_bootstrap_components) (2.2.0)\n",
      "Requirement already satisfied: click>=8.1.3 in c:\\users\\harsha.1aditya\\appdata\\local\\programs\\python\\python313\\lib\\site-packages (from Flask<3.1,>=1.0.4->dash>=3.0.4->dash_bootstrap_components) (8.2.1)\n",
      "Requirement already satisfied: blinker>=1.6.2 in c:\\users\\harsha.1aditya\\appdata\\local\\programs\\python\\python313\\lib\\site-packages (from Flask<3.1,>=1.0.4->dash>=3.0.4->dash_bootstrap_components) (1.9.0)\n",
      "Requirement already satisfied: MarkupSafe>=2.1.1 in c:\\users\\harsha.1aditya\\appdata\\local\\programs\\python\\python313\\lib\\site-packages (from Werkzeug<3.1->dash>=3.0.4->dash_bootstrap_components) (3.0.2)\n",
      "Requirement already satisfied: colorama in c:\\users\\harsha.1aditya\\appdata\\local\\programs\\python\\python313\\lib\\site-packages (from click>=8.1.3->Flask<3.1,>=1.0.4->dash>=3.0.4->dash_bootstrap_components) (0.4.6)\n",
      "Requirement already satisfied: narwhals>=1.15.1 in c:\\users\\harsha.1aditya\\appdata\\local\\programs\\python\\python313\\lib\\site-packages (from plotly>=5.0.0->dash>=3.0.4->dash_bootstrap_components) (1.41.0)\n",
      "Requirement already satisfied: packaging in c:\\users\\harsha.1aditya\\appdata\\local\\programs\\python\\python313\\lib\\site-packages (from plotly>=5.0.0->dash>=3.0.4->dash_bootstrap_components) (25.0)\n",
      "Requirement already satisfied: zipp>=3.20 in c:\\users\\harsha.1aditya\\appdata\\local\\programs\\python\\python313\\lib\\site-packages (from importlib-metadata->dash>=3.0.4->dash_bootstrap_components) (3.22.0)\n",
      "Requirement already satisfied: charset-normalizer<4,>=2 in c:\\users\\harsha.1aditya\\appdata\\local\\programs\\python\\python313\\lib\\site-packages (from requests->dash>=3.0.4->dash_bootstrap_components) (3.4.2)\n",
      "Requirement already satisfied: idna<4,>=2.5 in c:\\users\\harsha.1aditya\\appdata\\local\\programs\\python\\python313\\lib\\site-packages (from requests->dash>=3.0.4->dash_bootstrap_components) (3.10)\n",
      "Requirement already satisfied: urllib3<3,>=1.21.1 in c:\\users\\harsha.1aditya\\appdata\\local\\programs\\python\\python313\\lib\\site-packages (from requests->dash>=3.0.4->dash_bootstrap_components) (2.4.0)\n",
      "Requirement already satisfied: certifi>=2017.4.17 in c:\\users\\harsha.1aditya\\appdata\\local\\programs\\python\\python313\\lib\\site-packages (from requests->dash>=3.0.4->dash_bootstrap_components) (2025.4.26)\n",
      "Requirement already satisfied: six>=1.7.0 in c:\\users\\harsha.1aditya\\appdata\\local\\programs\\python\\python313\\lib\\site-packages (from retrying->dash>=3.0.4->dash_bootstrap_components) (1.17.0)\n",
      "Downloading dash_bootstrap_components-2.0.3-py3-none-any.whl (203 kB)\n",
      "Installing collected packages: dash_bootstrap_components\n",
      "Successfully installed dash_bootstrap_components-2.0.3\n",
      "Note: you may need to restart the kernel to use updated packages.\n"
     ]
    }
   ],
   "source": [
    "pip install dash_bootstrap_components"
   ]
  }
 ],
 "metadata": {
  "kernelspec": {
   "display_name": "Python 3",
   "language": "python",
   "name": "python3"
  },
  "language_info": {
   "codemirror_mode": {
    "name": "ipython",
    "version": 3
   },
   "file_extension": ".py",
   "mimetype": "text/x-python",
   "name": "python",
   "nbconvert_exporter": "python",
   "pygments_lexer": "ipython3",
   "version": "3.13.3"
  }
 },
 "nbformat": 4,
 "nbformat_minor": 5
}
